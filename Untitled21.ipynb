{
  "nbformat": 4,
  "nbformat_minor": 0,
  "metadata": {
    "colab": {
      "provenance": [],
      "authorship_tag": "ABX9TyOCTDWfQaFRZU3WebQTy5go",
      "include_colab_link": true
    },
    "kernelspec": {
      "name": "python3",
      "display_name": "Python 3"
    },
    "language_info": {
      "name": "python"
    }
  },
  "cells": [
    {
      "cell_type": "markdown",
      "metadata": {
        "id": "view-in-github",
        "colab_type": "text"
      },
      "source": [
        "<a href=\"https://colab.research.google.com/github/Natalycat86/2210/blob/main/Untitled21.ipynb\" target=\"_parent\"><img src=\"https://colab.research.google.com/assets/colab-badge.svg\" alt=\"Open In Colab\"/></a>"
      ]
    },
    {
      "cell_type": "markdown",
      "source": [
        "Задача:\n",
        "\n",
        "Мы запустили А/В тест Длительностью 10 дней.На каждую метрику направили по 10 000 юзеров. Ошибка первого рода 0.05. На основе выбранных данных, выберите 2 A/B-теста и составьте план эксперимента, чтобы избежать ошибки Peeking Problem\n",
        "\n",
        "Ключевые метрики:\n",
        "\n",
        "Количество новых регистраций пользователей\n",
        "Доход от новых пользователей\n",
        "Гипотеза: Если предложить 10% скидку на первую покупку для новых пользователей, то мы сможем повысить количество регистраций новых пользователей на 15%.\n",
        "\n",
        "Что мы делаем в каждой из групп: Даём код на 10% скидку на первую покупку.\n",
        "\n",
        "На каких пользователях мы тестируем: Новые пользователи, которые раньше не делали покупок на сайте.\n",
        "\n",
        "Метрика: количество новых регистраций пользователей.\n",
        "\n",
        "Гипотеза: Если предоставить персонализированные рекомендации по продуктам новым пользователям на основе их истории просмотров и покупательского поведения, то сможем повысить показатель дохода от новых пользователей на n%.\n",
        "Что мы делаем в каждой из групп: группа новых пользователей получает персонализированные рекомендации.\n",
        "\n",
        "На каких пользователях мы тестируем: На новых пользователях, совершивших хотя бы одну покупку на сайте\n",
        "\n",
        "Метрика: доход от новых пользователей.\n",
        "\n",
        "Решение:\n",
        "\n",
        "Соберём данные о регистрациях и доходах для контрольной и тестовой групп.\n",
        "Разделим данные на выборки – каждая выборка будет содержать 10,000 пользователей.\n",
        "Для каждой выборки будем считать количество новых регистраций и доход от новых пользователей для контрольной и тестовой групп.\n",
        "С помощью бутстрапа будем генерировать 1000 выборок с возвращением.\n",
        "Для каждой выборки будем считать различие между контрольной и тестовой групп в количестве новых регистраций и доходе от новых пользователей.\n",
        "Построим распределение полученных различий, оценим доверительные интервалы для обеих метрик.\n",
        "Если доверительный интервал не содержит 0 (для метрики регистраций) или отрицательных значений (для метрики дохода), то можем сделать вывод о том, что эксперимент был успешным и можно внедрять новые подходы в работу сервиса.\n",
        "Определяем ключевые билиотеки:"
      ],
      "metadata": {
        "id": "OrCiHn44xkpD"
      }
    },
    {
      "cell_type": "code",
      "source": [
        "import numpy as np\n",
        "import pandas as pd\n",
        "from scipy.stats import norm"
      ],
      "metadata": {
        "id": "LQex657IxlpR"
      },
      "execution_count": 1,
      "outputs": []
    },
    {
      "cell_type": "code",
      "source": [
        "control_registrations = 10000\n",
        "test_registrations = 10000\n",
        "control_income = 1000000\n",
        "test_income = 1000000"
      ],
      "metadata": {
        "id": "NMAND_kWxr76"
      },
      "execution_count": 2,
      "outputs": []
    },
    {
      "cell_type": "code",
      "source": [
        "control_registrations_list = np.random.binomial(n=1, p=0.05, size=control_registrations)\n",
        "test_registrations_list = np.random.binomial(n=1, p=0.05, size=test_registrations)\n",
        "control_income_list = np.random.normal(loc=100, scale=20, size=control_income)\n",
        "test_income_list = np.random.normal(loc=110, scale=20, size=test_income)"
      ],
      "metadata": {
        "id": "eMB3SRFPxufs"
      },
      "execution_count": 3,
      "outputs": []
    },
    {
      "cell_type": "code",
      "source": [
        "control_registrations_num = sum(control_registrations_list)\n",
        "test_registrations_num = sum(test_registrations_list)\n",
        "control_income_sum = sum(control_income_list)\n",
        "test_income_sum = sum(test_income_list)"
      ],
      "metadata": {
        "id": "4NAVrfSpxwdk"
      },
      "execution_count": 4,
      "outputs": []
    },
    {
      "cell_type": "code",
      "source": [
        "n = 1000\n",
        "differences_registrations = []\n",
        "differences_income = []\n",
        "\n",
        "for i in range(n):\n",
        "    control_registrations_sample = np.random.choice(control_registrations_list, size=10000, replace=True)\n",
        "    test_registrations_sample = np.random.choice(test_registrations_list, size=10000, replace=True)\n",
        "    control_income_sample = np.random.choice(control_income_list, size=10000, replace=True)\n",
        "    test_income_sample = np.random.choice(test_income_list, size=10000, replace=True)\n",
        "\n",
        "    sample_diff_registrations = sum(test_registrations_sample) - sum(control_registrations_sample)\n",
        "    sample_diff_income = sum(test_income_sample) - sum(control_income_sample)\n",
        "\n",
        "    differences_registrations.append(sample_diff_registrations)\n",
        "    differences_income.append(sample_diff_income)"
      ],
      "metadata": {
        "id": "0-VGTbVRxzC9"
      },
      "execution_count": 5,
      "outputs": []
    },
    {
      "cell_type": "code",
      "source": [
        "difference_registrations_mean = np.mean(differences_registrations)\n",
        "difference_registrations_std = np.std(differences_registrations)\n",
        "ci_registrations = norm.interval(0.95, loc=difference_registrations_mean, scale=difference_registrations_std/np.sqrt(n))\n",
        "print(\"95% доверительный интервал для количества регистраций: \", ci_registrations)"
      ],
      "metadata": {
        "colab": {
          "base_uri": "https://localhost:8080/"
        },
        "id": "SsYk-a3gx1Ro",
        "outputId": "fa29fc02-d8ce-4d6d-92c6-500db3652d42"
      },
      "execution_count": 6,
      "outputs": [
        {
          "output_type": "stream",
          "name": "stdout",
          "text": [
            "95% доверительный интервал для количества регистраций:  (-22.93205555648319, -19.08994444351681)\n"
          ]
        }
      ]
    },
    {
      "cell_type": "code",
      "source": [
        "difference_income_mean = np.mean(differences_income)\n",
        "difference_income_std = np.std(differences_income)\n",
        "ci_income = norm.interval(0.95, loc=difference_income_mean, scale=difference_income_std/np.sqrt(n))\n",
        "print(\"95% доверительный интервал для дохода: \", ci_income)"
      ],
      "metadata": {
        "colab": {
          "base_uri": "https://localhost:8080/"
        },
        "id": "aS0fEP_qx4FW",
        "outputId": "cb24af73-c49f-4587-fade-eb2f1d15270d"
      },
      "execution_count": 7,
      "outputs": [
        {
          "output_type": "stream",
          "name": "stdout",
          "text": [
            "95% доверительный интервал для дохода:  (99812.46034382054, 100157.54180516716)\n"
          ]
        }
      ]
    },
    {
      "cell_type": "markdown",
      "source": [
        "ИТОГИ: Так как, доверительный интервал не содержит 0 (для метрики регистраций) и отрицательных значений (для метрики дохода), то можем сделать вывод о том, что эксперимент был успешным и можно внедрять новые подходы в работу сервиса."
      ],
      "metadata": {
        "id": "HS0PCtKrx6oY"
      }
    }
  ]
}