{
  "nbformat": 4,
  "nbformat_minor": 0,
  "metadata": {
    "colab": {
      "provenance": [],
      "authorship_tag": "ABX9TyOPrj1eoqdbOheCHxN8t/iq",
      "include_colab_link": true
    },
    "kernelspec": {
      "name": "python3",
      "display_name": "Python 3"
    },
    "language_info": {
      "name": "python"
    }
  },
  "cells": [
    {
      "cell_type": "markdown",
      "metadata": {
        "id": "view-in-github",
        "colab_type": "text"
      },
      "source": [
        "<a href=\"https://colab.research.google.com/github/Natalycat86/2210/blob/main/Untitled11.ipynb\" target=\"_parent\"><img src=\"https://colab.research.google.com/assets/colab-badge.svg\" alt=\"Open In Colab\"/></a>"
      ]
    },
    {
      "cell_type": "code",
      "execution_count": 1,
      "metadata": {
        "id": "bIAwSfBBx5Yc"
      },
      "outputs": [],
      "source": [
        "import pandas as pd\n",
        "import numpy as np\n",
        "import scipy.stats as st"
      ]
    },
    {
      "cell_type": "code",
      "source": [
        "def combinations (n, k):\n",
        "    return np.math.factorial(n) // (np.math.factorial(k) * np.math.factorial(n - k))\n",
        "\n",
        "def arrangements (n, k):\n",
        "    return np.math.factorial(n) // np.math.factorial(n - k)\n",
        "\n",
        "def permutations (n):\n",
        "    return np.math.factorial(n)\n",
        "\n",
        "def bernulli (n, probability, target):\n",
        "    return combinations (n, target) * probability**target * (1 - probability)**(n - target)\n",
        "\n",
        "def puasson (n, probability, target):\n",
        "    return ((n * probability)**target / np.math.factorial(target)) * np.math.e**(-(n * probability))"
      ],
      "metadata": {
        "id": "-U140IYuyNRS"
      },
      "execution_count": 2,
      "outputs": []
    },
    {
      "cell_type": "markdown",
      "source": [
        "##Зачада 1\n",
        "Даны значения зарплат из выборки выпускников: 100, 80, 75, 77, 89, 33, 45, 25, 65, 17, 30, 24, 57, 55, 70, 75, 65, 84, 90, 150. Посчитать (желательно без использования статистических методов наподобие std, var, mean) среднее арифметическое, среднее квадратичное отклонение, смещенную и несмещенную оценки дисперсий для данной выборки."
      ],
      "metadata": {
        "id": "yandUVP5ysh0"
      }
    },
    {
      "cell_type": "code",
      "source": [
        "data = pd.Series([100, 80, 75, 77, 89, 33, 45, 25, 65, 17, 30, 24, 57, 55, 70, 75, 65, 84, 90, 150])\n",
        "average = data.sum() / data.count ()\n",
        "average"
      ],
      "metadata": {
        "colab": {
          "base_uri": "https://localhost:8080/"
        },
        "id": "xChsBlQvyx8g",
        "outputId": "61a84b6c-b931-494e-8731-97ea14bf9314"
      },
      "execution_count": 7,
      "outputs": [
        {
          "output_type": "execute_result",
          "data": {
            "text/plain": [
              "65.3"
            ]
          },
          "metadata": {},
          "execution_count": 7
        }
      ]
    },
    {
      "cell_type": "code",
      "source": [
        "std_dev = np.sqrt(((data - average) ** 2).sum() / data.count())\n",
        "std_dev"
      ],
      "metadata": {
        "colab": {
          "base_uri": "https://localhost:8080/"
        },
        "id": "f8a1p-IqzFcz",
        "outputId": "199542a0-e5cf-4c8f-9edd-daea5c2ab204"
      },
      "execution_count": 8,
      "outputs": [
        {
          "output_type": "execute_result",
          "data": {
            "text/plain": [
              "30.823854398825596"
            ]
          },
          "metadata": {},
          "execution_count": 8
        }
      ]
    },
    {
      "cell_type": "code",
      "source": [
        "shifted_variance = ((data - average) ** 2).sum() / data.count()\n",
        "shifted_variance"
      ],
      "metadata": {
        "colab": {
          "base_uri": "https://localhost:8080/"
        },
        "id": "Kt77COgWzTGy",
        "outputId": "a4ffcb06-f054-493d-e5fb-c62f6453d889"
      },
      "execution_count": 9,
      "outputs": [
        {
          "output_type": "execute_result",
          "data": {
            "text/plain": [
              "950.11"
            ]
          },
          "metadata": {},
          "execution_count": 9
        }
      ]
    },
    {
      "cell_type": "code",
      "source": [
        "unshifted_variance = ((data - average) ** 2).sum() / (data.count()-1)\n",
        "unshifted_variance"
      ],
      "metadata": {
        "colab": {
          "base_uri": "https://localhost:8080/"
        },
        "id": "63kP5G9Rzl-m",
        "outputId": "2c946e22-9fd7-4232-d7c9-e93e0ea93f4e"
      },
      "execution_count": 10,
      "outputs": [
        {
          "output_type": "execute_result",
          "data": {
            "text/plain": [
              "1000.1157894736842"
            ]
          },
          "metadata": {},
          "execution_count": 10
        }
      ]
    },
    {
      "cell_type": "markdown",
      "source": [
        "##Задача 2\n",
        "В первом ящике находится 8 мячей, из которых 5 - белые. Во втором ящике - 12 мячей, из которых 5 белых. Из первого ящика вытаскивают случайным образом два мяча, из второго - 4. Какова вероятность того, что 3 мяча белые?"
      ],
      "metadata": {
        "id": "Bd28u2FT0ogp"
      }
    },
    {
      "cell_type": "code",
      "source": [
        "v1 = (combinations(5, 2)*combinations(3, 0))/combinations(8, 2) * (combinations(5, 1)*combinations(7, 3))/combinations(12, 4)\n",
        "v2 = (combinations(5, 1)*combinations(3, 1))/combinations(8, 2) * (combinations(5, 2)*combinations(7, 2))/combinations(12, 4)\n",
        "v3 = (combinations(5, 0)*combinations(3, 2))/combinations(8, 2) * (combinations(5, 3)*combinations(7, 1))/combinations(12, 4)\n",
        "print(f'Вероятность трех белых мячей: {v1 + v2 + v3 :.5%}')"
      ],
      "metadata": {
        "colab": {
          "base_uri": "https://localhost:8080/"
        },
        "id": "JWXm0lHY1AvI",
        "outputId": "c33ecfa6-0c4a-4b90-bd3d-ea0972dd1eae"
      },
      "execution_count": 12,
      "outputs": [
        {
          "output_type": "stream",
          "name": "stdout",
          "text": [
            "Вероятность трех белых мячей: 36.86869%\n"
          ]
        }
      ]
    },
    {
      "cell_type": "markdown",
      "source": [
        "##Задача 3\n",
        "На соревновании по биатлону один из трех спортсменов стреляет и попадает в мишень. Вероятность попадания для первого спортсмена равна 0.9, для второго — 0.8, для третьего — 0.6. Найти вероятность того, что выстрел произведен: a). первым спортсменом б). вторым спортсменом в). третьим спортсменом."
      ],
      "metadata": {
        "id": "ZNCphADR1e-B"
      }
    },
    {
      "cell_type": "code",
      "source": [
        "total = 1/3 * 0.9 + 1/3 * 0.8 + 1/3 * 0.6\n",
        "total"
      ],
      "metadata": {
        "colab": {
          "base_uri": "https://localhost:8080/"
        },
        "id": "u8cTSKtR1zDz",
        "outputId": "286910ae-cffe-4dc4-a355-bbee9611159f"
      },
      "execution_count": 13,
      "outputs": [
        {
          "output_type": "execute_result",
          "data": {
            "text/plain": [
              "0.7666666666666666"
            ]
          },
          "metadata": {},
          "execution_count": 13
        }
      ]
    },
    {
      "cell_type": "code",
      "source": [
        "sportsman1 = 1/3 * 0.9 / total\n",
        "print(f'Вероятность выстрела первым спортсменом: {sportsman1 :.5%}')"
      ],
      "metadata": {
        "colab": {
          "base_uri": "https://localhost:8080/"
        },
        "id": "255Af8iz2c4t",
        "outputId": "c9697b9d-92bf-4e0e-9091-bc269d56dc45"
      },
      "execution_count": 15,
      "outputs": [
        {
          "output_type": "stream",
          "name": "stdout",
          "text": [
            "Вероятность выстрела первым спортсменом: 39.13043%\n"
          ]
        }
      ]
    },
    {
      "cell_type": "code",
      "source": [
        "sportsman2 = 1/3 * 0.8 / total\n",
        "print(f'Вероятность выстрела вторым спортсменом: {sportsman2 :.5%}')"
      ],
      "metadata": {
        "colab": {
          "base_uri": "https://localhost:8080/"
        },
        "id": "UKBVutKB23k9",
        "outputId": "3f0fcfcb-d76f-43c8-9c1b-a032f2b6ea0c"
      },
      "execution_count": 16,
      "outputs": [
        {
          "output_type": "stream",
          "name": "stdout",
          "text": [
            "Вероятность выстрела вторым спортсменом: 34.78261%\n"
          ]
        }
      ]
    },
    {
      "cell_type": "code",
      "source": [
        "sportsman3 = 1/3 * 0.6 / total\n",
        "print(f'Вероятность выстрела третьим спортсменом: {sportsman3 :.5%}')"
      ],
      "metadata": {
        "colab": {
          "base_uri": "https://localhost:8080/"
        },
        "id": "PY2qWhQJ3E-I",
        "outputId": "c3b0bfa7-262e-4924-f54b-bd3c74533547"
      },
      "execution_count": 17,
      "outputs": [
        {
          "output_type": "stream",
          "name": "stdout",
          "text": [
            "Вероятность выстрела третьим спортсменом: 26.08696%\n"
          ]
        }
      ]
    },
    {
      "cell_type": "markdown",
      "source": [
        "##Задача 4\n",
        "В университет на факультеты A и B поступило равное количество студентов, а на факультет C студентов поступило столько же, сколько на A и B вместе. Вероятность того, что студент факультета A сдаст первую сессию, равна 0.8. Для студента факультета B эта вероятность равна 0.7, а для студента факультета C - 0.9. Студент сдал первую сессию. Какова вероятность, что он учится: a). на факультете A б). на факультете B в). на факультете C?"
      ],
      "metadata": {
        "id": "k0HRzygw3Ov8"
      }
    },
    {
      "cell_type": "code",
      "source": [
        "total2 = 1/4 * 0.8 + 1/4 * 0.7 + 2/4 * 0.9\n",
        "total2"
      ],
      "metadata": {
        "colab": {
          "base_uri": "https://localhost:8080/"
        },
        "id": "0xBrL_je3TGK",
        "outputId": "512c56aa-45a1-4337-c660-da76b9b7a253"
      },
      "execution_count": 18,
      "outputs": [
        {
          "output_type": "execute_result",
          "data": {
            "text/plain": [
              "0.825"
            ]
          },
          "metadata": {},
          "execution_count": 18
        }
      ]
    },
    {
      "cell_type": "code",
      "source": [
        "faculty_A = 1/4 * 0.8 / total2\n",
        "print(f'Вероятность того, что студент с факультета А: {faculty_A :.5%}')"
      ],
      "metadata": {
        "colab": {
          "base_uri": "https://localhost:8080/"
        },
        "id": "lx6CUt9X3k2E",
        "outputId": "3759a911-fe23-48ec-89c0-1da158288418"
      },
      "execution_count": 19,
      "outputs": [
        {
          "output_type": "stream",
          "name": "stdout",
          "text": [
            "Вероятность того, что студент с факультета А: 24.24242%\n"
          ]
        }
      ]
    },
    {
      "cell_type": "code",
      "source": [
        "faculty_B = 1/4 * 0.7 / total2\n",
        "print(f'Вероятность того, что студент с факультета B: {faculty_B :.5%}')"
      ],
      "metadata": {
        "colab": {
          "base_uri": "https://localhost:8080/"
        },
        "id": "utO3WRyY345e",
        "outputId": "92e3f851-5f7b-4d4b-b71a-e8896095be0d"
      },
      "execution_count": 20,
      "outputs": [
        {
          "output_type": "stream",
          "name": "stdout",
          "text": [
            "Вероятность того, что студент с факультета B: 21.21212%\n"
          ]
        }
      ]
    },
    {
      "cell_type": "code",
      "source": [
        "faculty_C = 2/4 * 0.9 / total2\n",
        "print(f'Вероятность того, что студент с факультета C: {faculty_C :.5%}')"
      ],
      "metadata": {
        "colab": {
          "base_uri": "https://localhost:8080/"
        },
        "id": "CvkrCVGY4CYW",
        "outputId": "50e83e09-5d1f-4400-b1da-bcb06fd46e93"
      },
      "execution_count": 21,
      "outputs": [
        {
          "output_type": "stream",
          "name": "stdout",
          "text": [
            "Вероятность того, что студент с факультета C: 54.54545%\n"
          ]
        }
      ]
    },
    {
      "cell_type": "markdown",
      "source": [
        "##Задача 5\n",
        "Устройство состоит из трех деталей. Для первой детали вероятность выйти из строя в первый месяц равна 0.1, для второй - 0.2, для третьей - 0.25. Какова вероятность того, что в первый месяц выйдут из строя: а). все детали б). только две детали в). хотя бы одна деталь г). от одной до двух деталей?"
      ],
      "metadata": {
        "id": "CzZ4FmWj4Mm1"
      }
    },
    {
      "cell_type": "code",
      "source": [
        "probability1 = 0.1*0.2*0.25\n",
        "print(f'Вероятность того, что сломаются 3 детали: {probability1 :.5%}')"
      ],
      "metadata": {
        "colab": {
          "base_uri": "https://localhost:8080/"
        },
        "id": "C6g0ress4VAm",
        "outputId": "6a140c32-a2de-46ad-c489-416280e292a6"
      },
      "execution_count": 22,
      "outputs": [
        {
          "output_type": "stream",
          "name": "stdout",
          "text": [
            "Вероятность того, что сломаются 3 детали: 0.50000%\n"
          ]
        }
      ]
    },
    {
      "cell_type": "code",
      "source": [
        "probability2 = 0.1*0.2*0.75 + 0.1*0.8*0.25 + 0.9*0.2*0.25\n",
        "print(f'Вероятность того, что сломаются 2 детали: {probability2 :.5%}')"
      ],
      "metadata": {
        "colab": {
          "base_uri": "https://localhost:8080/"
        },
        "id": "pE6d112a4wSY",
        "outputId": "aaa1dcb6-6ec1-46ca-a6a5-fa7aa4ef07f2"
      },
      "execution_count": 23,
      "outputs": [
        {
          "output_type": "stream",
          "name": "stdout",
          "text": [
            "Вероятность того, что сломаются 2 детали: 8.00000%\n"
          ]
        }
      ]
    },
    {
      "cell_type": "code",
      "source": [
        "probability3 = 1 - 0.9*0.8*0.75\n",
        "print(f'Вероятность того, что сломается 1 деталь: {probability3 :.5%}')"
      ],
      "metadata": {
        "colab": {
          "base_uri": "https://localhost:8080/"
        },
        "id": "odpF9X4p45eG",
        "outputId": "b59a113f-645d-4fb2-cb0f-13b9a90a93fc"
      },
      "execution_count": 24,
      "outputs": [
        {
          "output_type": "stream",
          "name": "stdout",
          "text": [
            "Вероятность того, что сломается 1 деталь: 46.00000%\n"
          ]
        }
      ]
    },
    {
      "cell_type": "code",
      "source": [
        "probability4 = probability2 + probability3\n",
        "print(f'Вероятность того, что сломается 1 или 2 детали: {probability4 :.5%}')"
      ],
      "metadata": {
        "colab": {
          "base_uri": "https://localhost:8080/"
        },
        "id": "QX2q7g8V5DJJ",
        "outputId": "06a70975-e8fc-4a7b-8039-fd613fbc3fad"
      },
      "execution_count": 25,
      "outputs": [
        {
          "output_type": "stream",
          "name": "stdout",
          "text": [
            "Вероятность того, что сломается 1 или 2 детали: 54.00000%\n"
          ]
        }
      ]
    }
  ]
}