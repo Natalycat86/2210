{
  "nbformat": 4,
  "nbformat_minor": 0,
  "metadata": {
    "colab": {
      "provenance": [],
      "authorship_tag": "ABX9TyMgbLkz2HpV8vwLB9aqzHUR",
      "include_colab_link": true
    },
    "kernelspec": {
      "name": "python3",
      "display_name": "Python 3"
    },
    "language_info": {
      "name": "python"
    }
  },
  "cells": [
    {
      "cell_type": "markdown",
      "metadata": {
        "id": "view-in-github",
        "colab_type": "text"
      },
      "source": [
        "<a href=\"https://colab.research.google.com/github/Natalycat86/2210/blob/main/Untitled19.ipynb\" target=\"_parent\"><img src=\"https://colab.research.google.com/assets/colab-badge.svg\" alt=\"Open In Colab\"/></a>"
      ]
    },
    {
      "cell_type": "code",
      "execution_count": 26,
      "metadata": {
        "id": "HeJLR8aM8P7i"
      },
      "outputs": [],
      "source": [
        "import pandas as pd\n",
        "import numpy as np\n",
        "import scipy.stats as st"
      ]
    },
    {
      "cell_type": "code",
      "source": [
        "def combinations (n, k):\n",
        "    return np.math.factorial(n) // (np.math.factorial(k) * np.math.factorial(n - k))\n",
        "\n",
        "def arrangements (n, k):\n",
        "    return np.math.factorial(n) // np.math.factorial(n - k)\n",
        "\n",
        "def permutations (n):\n",
        "    return np.math.factorial(n)\n",
        "\n",
        "def bernulli (n, probability, target):\n",
        "    return combinations (n, target) * probability**target * (1 - probability)**(n - target)\n",
        "\n",
        "def poisson (n, probability, target):\n",
        "    return ((n * probability)**target / np.math.factorial(target)) * np.math.e**(-(n * probability))\n",
        "\n",
        "def unbiased_variance (data: pd.Series(dtype='float64')):\n",
        "    avg = data.sum() / data.count ()\n",
        "    unbiased_variance = ((data - avg) ** 2).sum() / (data.count()-1)"
      ],
      "metadata": {
        "id": "1KGpM8nF8Twt"
      },
      "execution_count": 27,
      "outputs": []
    },
    {
      "cell_type": "markdown",
      "source": [
        "## Задача 1\n",
        "Даны значения величины заработной платы заемщиков банка (zp) и значения их поведенческого кредитного скоринга (ks): zp = [35, 45, 190, 200, 40, 70, 54, 150, 120, 110], ks = [401, 574, 874, 919, 459, 739, 653, 902, 746, 832].\n",
        "Используя математические операции, посчитать коэффициенты линейной регрессии, приняв за X заработную плату (то есть, zp - признак), а за y - значения скорингового балла (то есть, ks - целевая переменная). Произвести расчет как с использованием intercept, так и без."
      ],
      "metadata": {
        "id": "_CeyPdUk8aN6"
      }
    },
    {
      "cell_type": "code",
      "source": [
        "zp = np.array([35, 45, 190, 200, 40, 70, 54, 150, 120, 110])\n",
        "ks = np.array([401, 574, 874, 919, 459, 739, 653, 902, 746, 832])"
      ],
      "metadata": {
        "id": "dzzi_fgQ8hSd"
      },
      "execution_count": 28,
      "outputs": []
    },
    {
      "cell_type": "code",
      "source": [
        "b1 = ((zp * ks).mean() - zp.mean() * ks.mean()) / ((zp ** 2).mean() - (zp.mean() ** 2))\n",
        "b1"
      ],
      "metadata": {
        "colab": {
          "base_uri": "https://localhost:8080/"
        },
        "id": "NfFVQxMV8jwX",
        "outputId": "1e4adfad-3ff5-49dc-db10-a386e9f910b5"
      },
      "execution_count": 29,
      "outputs": [
        {
          "output_type": "execute_result",
          "data": {
            "text/plain": [
              "2.620538882402765"
            ]
          },
          "metadata": {},
          "execution_count": 29
        }
      ]
    },
    {
      "cell_type": "code",
      "source": [
        "a1 = ks.mean() - b1 * zp.mean()\n",
        "a1"
      ],
      "metadata": {
        "colab": {
          "base_uri": "https://localhost:8080/"
        },
        "id": "e-X31I5K8lnh",
        "outputId": "5efc93c0-cb46-4234-9e9d-d8835fc6a120"
      },
      "execution_count": 30,
      "outputs": [
        {
          "output_type": "execute_result",
          "data": {
            "text/plain": [
              "444.1773573243596"
            ]
          },
          "metadata": {},
          "execution_count": 30
        }
      ]
    },
    {
      "cell_type": "code",
      "source": [
        "zp1 = zp.reshape(-1, 1)\n",
        "zp1"
      ],
      "metadata": {
        "colab": {
          "base_uri": "https://localhost:8080/"
        },
        "id": "q8j3iAAz8njB",
        "outputId": "f6dea4bb-98f5-42d4-b25f-c60686e2effb"
      },
      "execution_count": 31,
      "outputs": [
        {
          "output_type": "execute_result",
          "data": {
            "text/plain": [
              "array([[ 35],\n",
              "       [ 45],\n",
              "       [190],\n",
              "       [200],\n",
              "       [ 40],\n",
              "       [ 70],\n",
              "       [ 54],\n",
              "       [150],\n",
              "       [120],\n",
              "       [110]])"
            ]
          },
          "metadata": {},
          "execution_count": 31
        }
      ]
    },
    {
      "cell_type": "code",
      "source": [
        "ones = np.ones((zp1.shape[0], 1))\n",
        "zp1 = np.hstack((ones, zp1))"
      ],
      "metadata": {
        "id": "JWDjcXnz8qq0"
      },
      "execution_count": 32,
      "outputs": []
    },
    {
      "cell_type": "code",
      "source": [
        "zp1"
      ],
      "metadata": {
        "colab": {
          "base_uri": "https://localhost:8080/"
        },
        "id": "FOYnfcJS8tDW",
        "outputId": "f1f7ef8b-5d42-4153-c538-3602b5416849"
      },
      "execution_count": 33,
      "outputs": [
        {
          "output_type": "execute_result",
          "data": {
            "text/plain": [
              "array([[  1.,  35.],\n",
              "       [  1.,  45.],\n",
              "       [  1., 190.],\n",
              "       [  1., 200.],\n",
              "       [  1.,  40.],\n",
              "       [  1.,  70.],\n",
              "       [  1.,  54.],\n",
              "       [  1., 150.],\n",
              "       [  1., 120.],\n",
              "       [  1., 110.]])"
            ]
          },
          "metadata": {},
          "execution_count": 33
        }
      ]
    },
    {
      "cell_type": "code",
      "source": [
        "ks1 = ks.reshape(-1, 1)\n",
        "ks1"
      ],
      "metadata": {
        "colab": {
          "base_uri": "https://localhost:8080/"
        },
        "id": "iwwOL9kk8vPU",
        "outputId": "bec0560d-0ab0-4522-845d-6c07c1624abf"
      },
      "execution_count": 34,
      "outputs": [
        {
          "output_type": "execute_result",
          "data": {
            "text/plain": [
              "array([[401],\n",
              "       [574],\n",
              "       [874],\n",
              "       [919],\n",
              "       [459],\n",
              "       [739],\n",
              "       [653],\n",
              "       [902],\n",
              "       [746],\n",
              "       [832]])"
            ]
          },
          "metadata": {},
          "execution_count": 34
        }
      ]
    },
    {
      "cell_type": "code",
      "source": [
        "XTX = zp1.T.dot(zp1)\n",
        "\n",
        "np.linalg.det(XTX)"
      ],
      "metadata": {
        "colab": {
          "base_uri": "https://localhost:8080/"
        },
        "id": "iuDcgVtz8xFP",
        "outputId": "245d3c34-5d63-466b-8c82-152e7c824c06"
      },
      "execution_count": 35,
      "outputs": [
        {
          "output_type": "execute_result",
          "data": {
            "text/plain": [
              "349464.00000000023"
            ]
          },
          "metadata": {},
          "execution_count": 35
        }
      ]
    },
    {
      "cell_type": "code",
      "source": [
        "XTX_inv = np.linalg.inv(XTX)\n",
        "\n",
        "b = XTX_inv.dot(zp1.T).dot(ks1)\n",
        "\n",
        "b"
      ],
      "metadata": {
        "colab": {
          "base_uri": "https://localhost:8080/"
        },
        "id": "E0ViT5jS8zPM",
        "outputId": "a0a5bff7-d74d-411e-c7c4-927fda5beb21"
      },
      "execution_count": 36,
      "outputs": [
        {
          "output_type": "execute_result",
          "data": {
            "text/plain": [
              "array([[444.17735732],\n",
              "       [  2.62053888]])"
            ]
          },
          "metadata": {},
          "execution_count": 36
        }
      ]
    },
    {
      "cell_type": "code",
      "source": [
        "zp2 = np.vstack([np.ones((1, 10)), zp])\n",
        "zp2"
      ],
      "metadata": {
        "colab": {
          "base_uri": "https://localhost:8080/"
        },
        "id": "u7IBUQ6H824T",
        "outputId": "2fd515ac-b889-417c-dd2e-86acdf5af53b"
      },
      "execution_count": 37,
      "outputs": [
        {
          "output_type": "execute_result",
          "data": {
            "text/plain": [
              "array([[  1.,   1.,   1.,   1.,   1.,   1.,   1.,   1.,   1.,   1.],\n",
              "       [ 35.,  45., 190., 200.,  40.,  70.,  54., 150., 120., 110.]])"
            ]
          },
          "metadata": {},
          "execution_count": 37
        }
      ]
    },
    {
      "cell_type": "code",
      "source": [
        "np.dot(np.dot(np.linalg.inv(np.dot(zp2, zp2.T)), zp2), ks.T)"
      ],
      "metadata": {
        "colab": {
          "base_uri": "https://localhost:8080/"
        },
        "id": "E8yO1aZM84tC",
        "outputId": "c80042a6-7df2-445e-e552-4c709970713c"
      },
      "execution_count": 38,
      "outputs": [
        {
          "output_type": "execute_result",
          "data": {
            "text/plain": [
              "array([444.17735732,   2.62053888])"
            ]
          },
          "metadata": {},
          "execution_count": 38
        }
      ]
    },
    {
      "cell_type": "markdown",
      "source": [
        "## Задача 2\n",
        "Посчитать коэффициент линейной регрессии при заработной плате (zp), используя градиентный спуск (без intercept)."
      ],
      "metadata": {
        "id": "16DYoj0Y86i9"
      }
    },
    {
      "cell_type": "code",
      "source": [
        "zp_t2 = np.array([35, 45, 190, 200, 40, 70, 54, 150, 120, 110])\n",
        "ks_t2 = np.array([401, 574, 874, 919, 459, 739, 653, 902, 746, 832])"
      ],
      "metadata": {
        "id": "306-vR6D9A_t"
      },
      "execution_count": 39,
      "outputs": []
    },
    {
      "cell_type": "code",
      "source": [
        "alpha = 1e-6\n",
        "w1 = 0.1"
      ],
      "metadata": {
        "id": "YE5cNuyw9CxN"
      },
      "execution_count": 40,
      "outputs": []
    },
    {
      "cell_type": "code",
      "source": [
        "def mse (w1, y=ks_t2, x=zp_t2, n=10):\n",
        "    return np.sum((w1 * x - y) ** 2) / n\n",
        "mse_min = mse(b1, zp, ks)\n",
        "i_min = 1\n",
        "b_min = b\n",
        "iteration_1 = 3000"
      ],
      "metadata": {
        "id": "t7QsxSRK9EQ9"
      },
      "execution_count": 41,
      "outputs": []
    },
    {
      "cell_type": "code",
      "source": [
        "for i in range(iteration_1):\n",
        "    fp = (1 / 10) * np.sum(2 * (w1 * zp - ks) * zp)\n",
        "    w1 -= alpha * fp\n",
        "    if i % 100 == 0:\n",
        "        print(f'iteration: {i}, w1 : {w1}, mse: {mse(w1) }')"
      ],
      "metadata": {
        "colab": {
          "base_uri": "https://localhost:8080/"
        },
        "id": "ZQiDg3pv9F3h",
        "outputId": "21f4d044-009a-43c4-a20f-b37a421e1aa8"
      },
      "execution_count": 42,
      "outputs": [
        {
          "output_type": "stream",
          "name": "stdout",
          "text": [
            "iteration: 0, w1 : 0.25952808000000005, mse: 493237.7212546963\n",
            "iteration: 100, w1 : 5.54537842245223, mse: 58151.31823171113\n",
            "iteration: 200, w1 : 5.868748638669329, mse: 56522.97550129376\n",
            "iteration: 300, w1 : 5.888531320728348, mse: 56516.88130936019\n",
            "iteration: 400, w1 : 5.8897415574471985, mse: 56516.85850140053\n",
            "iteration: 500, w1 : 5.889815595583751, mse: 56516.858416040064\n",
            "iteration: 600, w1 : 5.889820124983314, mse: 56516.85841572062\n",
            "iteration: 700, w1 : 5.889820402076462, mse: 56516.85841571941\n",
            "iteration: 800, w1 : 5.88982041902807, mse: 56516.8584157194\n",
            "iteration: 900, w1 : 5.889820420065112, mse: 56516.85841571941\n",
            "iteration: 1000, w1 : 5.8898204201285544, mse: 56516.85841571941\n",
            "iteration: 1100, w1 : 5.889820420132437, mse: 56516.85841571943\n",
            "iteration: 1200, w1 : 5.889820420132673, mse: 56516.85841571943\n",
            "iteration: 1300, w1 : 5.889820420132673, mse: 56516.85841571943\n",
            "iteration: 1400, w1 : 5.889820420132673, mse: 56516.85841571943\n",
            "iteration: 1500, w1 : 5.889820420132673, mse: 56516.85841571943\n",
            "iteration: 1600, w1 : 5.889820420132673, mse: 56516.85841571943\n",
            "iteration: 1700, w1 : 5.889820420132673, mse: 56516.85841571943\n",
            "iteration: 1800, w1 : 5.889820420132673, mse: 56516.85841571943\n",
            "iteration: 1900, w1 : 5.889820420132673, mse: 56516.85841571943\n",
            "iteration: 2000, w1 : 5.889820420132673, mse: 56516.85841571943\n",
            "iteration: 2100, w1 : 5.889820420132673, mse: 56516.85841571943\n",
            "iteration: 2200, w1 : 5.889820420132673, mse: 56516.85841571943\n",
            "iteration: 2300, w1 : 5.889820420132673, mse: 56516.85841571943\n",
            "iteration: 2400, w1 : 5.889820420132673, mse: 56516.85841571943\n",
            "iteration: 2500, w1 : 5.889820420132673, mse: 56516.85841571943\n",
            "iteration: 2600, w1 : 5.889820420132673, mse: 56516.85841571943\n",
            "iteration: 2700, w1 : 5.889820420132673, mse: 56516.85841571943\n",
            "iteration: 2800, w1 : 5.889820420132673, mse: 56516.85841571943\n",
            "iteration: 2900, w1 : 5.889820420132673, mse: 56516.85841571943\n"
          ]
        }
      ]
    },
    {
      "cell_type": "markdown",
      "source": [
        "## Задача 3\n",
        "Произвести вычисления как в пункте 2, но с вычислением intercept. Учесть, что изменение коэффициентов должно производиться на каждом шаге одновременно (то есть изменение одного коэффициента не должно влиять на изменение другого во время одной итерации)."
      ],
      "metadata": {
        "id": "zPqmSxm499Q2"
      }
    },
    {
      "cell_type": "code",
      "source": [
        "def mse(b0, b1, x=zp, y=ks):\n",
        "    return np.sum(((b0 + b1 * x) - y)**2) / len(x)"
      ],
      "metadata": {
        "id": "EBpmcjjg9_Hq"
      },
      "execution_count": 43,
      "outputs": []
    },
    {
      "cell_type": "code",
      "source": [
        "def mse_b0(b0, b1, x = zp, y = ks):\n",
        "    return 2 * np.sum((b0 + b1 * x) -y) / len(x)"
      ],
      "metadata": {
        "id": "scW3GPXI-DCt"
      },
      "execution_count": 44,
      "outputs": []
    },
    {
      "cell_type": "code",
      "source": [
        "def mse_b1(b0, b1, x = zp, y = ks):\n",
        "    return 2 * np.sum(((b0 + b1 * x) - y) * x) / len(x)"
      ],
      "metadata": {
        "id": "TRRHmupx-EzV"
      },
      "execution_count": 45,
      "outputs": []
    },
    {
      "cell_type": "code",
      "source": [
        "alpha = 5e-05\n",
        "b1 = 0.1\n",
        "b0 = 0.1\n",
        "mse_min = mse(b0, b1)\n",
        "i_min = 1\n",
        "b1_min = b1\n",
        "b0_min = b0"
      ],
      "metadata": {
        "id": "pEYfQj3B-Gc9"
      },
      "execution_count": 46,
      "outputs": []
    },
    {
      "cell_type": "code",
      "source": [
        "for i in range(1000000):\n",
        "    b0 -= alpha * mse_b0(b0, b1)\n",
        "    b1 -= alpha * mse_b1(b0, b1)\n",
        "    if i % 50000 == 0:\n",
        "        print(f'Итерация {i}: b0 = {b0}, b1 = {b1}, mse = {mse(b0, b1)}')\n",
        "    if mse(b0, b1) > mse_min:\n",
        "        print(\n",
        "            f'Итерация {i_min}: b0 = {b0_min}, b1 = {b1_min}, mse = {mse_min},\\nДостигнут минимум.')\n",
        "        break\n",
        "    else:\n",
        "        mse_min = mse(b0, b1)\n",
        "        i_min = i\n",
        "        b1_min = b1\n",
        "        b0_min = b0\n",
        "print(f'b0 = {b0_min} \\nb1 = {b1_min}')"
      ],
      "metadata": {
        "colab": {
          "base_uri": "https://localhost:8080/"
        },
        "id": "camX_kSd-ISx",
        "outputId": "f98b63b4-c663-4c7f-b429-456ac986403e"
      },
      "execution_count": 48,
      "outputs": [
        {
          "output_type": "stream",
          "name": "stdout",
          "text": [
            "Итерация 0: b0 = 0.1590617426761336, b1 = 5.063073259395202, mse = 65870.82688197089\n",
            "Итерация 50000: b0 = 319.2808448156546, b1 = 3.5398091159215594, mse = 10427.368351875713\n",
            "Итерация 100000: b0 = 409.045128595685, b1 = 2.8791210594286727, mse = 6783.506076438464\n",
            "Итерация 150000: b0 = 434.29498774772213, b1 = 2.693275646672315, mse = 6495.187427911589\n",
            "Итерация 200000: b0 = 441.3975385658204, b1 = 2.640999058495545, mse = 6472.374369457443\n",
            "Итерация 250000: b0 = 443.39542013101675, b1 = 2.6262941398705926, mse = 6470.569298440736\n",
            "Итерация 300000: b0 = 443.9574056557667, b1 = 2.6221577828643468, mse = 6470.426473164508\n",
            "Итерация 350000: b0 = 444.11548696325093, b1 = 2.620994264063645, mse = 6470.415172191116\n",
            "Итерация 400000: b0 = 444.15995376653143, b1 = 2.6206669770336513, mse = 6470.414278007658\n",
            "Итерация 450000: b0 = 444.17246186521555, b1 = 2.6205749142324786, mse = 6470.4142072558725\n",
            "Итерация 500000: b0 = 444.17598027717713, b1 = 2.6205490178217583, mse = 6470.4142016576725\n",
            "Итерация 520163: b0 = 444.17653163778414, b1 = 2.62054495966686, mse = 6470.414201349592,\n",
            "Достигнут минимум.\n",
            "b0 = 444.17653163778414 \n",
            "b1 = 2.62054495966686\n"
          ]
        }
      ]
    }
  ]
}