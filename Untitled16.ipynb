{
  "nbformat": 4,
  "nbformat_minor": 0,
  "metadata": {
    "colab": {
      "provenance": [],
      "authorship_tag": "ABX9TyMU/HLnrEk/iJO73LyK6iml",
      "include_colab_link": true
    },
    "kernelspec": {
      "name": "python3",
      "display_name": "Python 3"
    },
    "language_info": {
      "name": "python"
    }
  },
  "cells": [
    {
      "cell_type": "markdown",
      "metadata": {
        "id": "view-in-github",
        "colab_type": "text"
      },
      "source": [
        "<a href=\"https://colab.research.google.com/github/Natalycat86/2210/blob/main/Untitled16.ipynb\" target=\"_parent\"><img src=\"https://colab.research.google.com/assets/colab-badge.svg\" alt=\"Open In Colab\"/></a>"
      ]
    },
    {
      "cell_type": "code",
      "execution_count": 1,
      "metadata": {
        "id": "AXSZt4mGh_8Y"
      },
      "outputs": [],
      "source": [
        "import pandas as pd\n",
        "import numpy as np\n",
        "import scipy.stats as st"
      ]
    },
    {
      "cell_type": "code",
      "source": [
        "def combinations (n, k):\n",
        "    return np.math.factorial(n) // (np.math.factorial(k) * np.math.factorial(n - k))\n",
        "\n",
        "def arrangements (n, k):\n",
        "    return np.math.factorial(n) // np.math.factorial(n - k)\n",
        "\n",
        "def permutations (n):\n",
        "    return np.math.factorial(n)\n",
        "\n",
        "def bernulli (n, probability, target):\n",
        "    return combinations (n, target) * probability**target * (1 - probability)**(n - target)\n",
        "\n",
        "def poisson (n, probability, target):\n",
        "    return ((n * probability)**target / np.math.factorial(target)) * np.math.e**(-(n * probability))\n",
        "\n",
        "def unbiased_variance (data: pd.Series(dtype='float64')):\n",
        "    avg = data.sum() / data.count ()\n",
        "    unbiased_variance = ((data - avg) ** 2).sum() / (data.count()-1)"
      ],
      "metadata": {
        "id": "iaDFVWVjiE7L"
      },
      "execution_count": 2,
      "outputs": []
    },
    {
      "cell_type": "markdown",
      "source": [
        "## Задача 1\n",
        "Даны значения величины заработной платы заемщиков банка (zp) и значения их поведенческого кредитного скоринга (ks): zp = [35, 45, 190, 200, 40, 70, 54, 150, 120, 110], ks = [401, 574, 874, 919, 459, 739, 653, 902, 746, 832]. Найдите ковариацию этих двух величин с помощью элементарных действий, а затем с помощью функции cov из numpy Полученные значения должны быть равны. Найдите коэффициент корреляции Пирсона с помощью ковариации и среднеквадратичных отклонений двух признаков, а затем с использованием функций из библиотек numpy и pandas."
      ],
      "metadata": {
        "id": "CaCkqykCiOb0"
      }
    },
    {
      "cell_type": "code",
      "source": [
        "zp = np.array([35, 45, 190, 200, 40, 70, 54, 150, 120, 110])\n",
        "ks = np.array([401, 574, 874, 919, 459, 739, 653, 902, 746, 832])"
      ],
      "metadata": {
        "id": "ySW2hqBdiUod"
      },
      "execution_count": 3,
      "outputs": []
    },
    {
      "cell_type": "code",
      "source": [
        "zp_mean = zp.mean()\n",
        "ks_mean = ks.mean()"
      ],
      "metadata": {
        "id": "3XjDFsesiWd7"
      },
      "execution_count": 4,
      "outputs": []
    },
    {
      "cell_type": "code",
      "source": [
        "cov = ((zp - zp_mean) * (ks - ks_mean)).sum() / (zp.shape[0] - 1)\n",
        "cov"
      ],
      "metadata": {
        "colab": {
          "base_uri": "https://localhost:8080/"
        },
        "id": "qlDDlmDViaTO",
        "outputId": "51b8c15d-5974-48f8-b698-530aabb3b492"
      },
      "execution_count": 5,
      "outputs": [
        {
          "output_type": "execute_result",
          "data": {
            "text/plain": [
              "10175.37777777778"
            ]
          },
          "metadata": {},
          "execution_count": 5
        }
      ]
    },
    {
      "cell_type": "code",
      "source": [
        "cov2 = np.cov(zp, ks)\n",
        "cov2"
      ],
      "metadata": {
        "colab": {
          "base_uri": "https://localhost:8080/"
        },
        "id": "Vu8Lz1Apic6G",
        "outputId": "870d102b-63c7-4d2f-eee0-9e85af71cd84"
      },
      "execution_count": 6,
      "outputs": [
        {
          "output_type": "execute_result",
          "data": {
            "text/plain": [
              "array([[ 3882.93333333, 10175.37777778],\n",
              "       [10175.37777778, 33854.32222222]])"
            ]
          },
          "metadata": {},
          "execution_count": 6
        }
      ]
    },
    {
      "cell_type": "code",
      "source": [
        "corr = cov / (zp.std(ddof=1) * ks.std(ddof=1))\n",
        "corr"
      ],
      "metadata": {
        "colab": {
          "base_uri": "https://localhost:8080/"
        },
        "id": "MglG_2kTinmp",
        "outputId": "24d2bb97-08e2-4914-e1a1-d15beaafc923"
      },
      "execution_count": 7,
      "outputs": [
        {
          "output_type": "execute_result",
          "data": {
            "text/plain": [
              "0.8874900920739164"
            ]
          },
          "metadata": {},
          "execution_count": 7
        }
      ]
    },
    {
      "cell_type": "code",
      "source": [
        "np.corrcoef(zp, ks)"
      ],
      "metadata": {
        "colab": {
          "base_uri": "https://localhost:8080/"
        },
        "id": "swyet9c4ipMT",
        "outputId": "9064f33e-4030-4b51-fd04-96c77d12bf0c"
      },
      "execution_count": 8,
      "outputs": [
        {
          "output_type": "execute_result",
          "data": {
            "text/plain": [
              "array([[1.        , 0.88749009],\n",
              "       [0.88749009, 1.        ]])"
            ]
          },
          "metadata": {},
          "execution_count": 8
        }
      ]
    },
    {
      "cell_type": "markdown",
      "source": [
        "## Задача 2\n",
        "Измерены значения IQ выборки студентов, обучающихся в местных технических вузах: 131, 125, 115, 122, 131, 115, 107, 99, 125, 111. Известно, что в генеральной совокупности IQ распределен нормально. Найдите доверительный интервал для математического ожидания с надежностью 0.95."
      ],
      "metadata": {
        "id": "RPPBNtD1iv2S"
      }
    },
    {
      "cell_type": "code",
      "source": [
        "iq = np.array([131, 125, 115, 122, 131, 115, 107, 99, 125, 111])\n",
        "n = iq.shape[0]"
      ],
      "metadata": {
        "id": "9TgpCxOyi0xM"
      },
      "execution_count": 9,
      "outputs": []
    },
    {
      "cell_type": "code",
      "source": [
        "iq_t = st.t.ppf(1 - 0.05 / 2, n - 1)\n",
        "iq_t"
      ],
      "metadata": {
        "colab": {
          "base_uri": "https://localhost:8080/"
        },
        "id": "FsqN4R2ni2Wc",
        "outputId": "9d10bdf1-34d6-419a-bcdd-0b61fc898882"
      },
      "execution_count": 10,
      "outputs": [
        {
          "output_type": "execute_result",
          "data": {
            "text/plain": [
              "2.2621571627409915"
            ]
          },
          "metadata": {},
          "execution_count": 10
        }
      ]
    },
    {
      "cell_type": "code",
      "source": [
        "iq_std = iq.std(ddof=1)\n",
        "iq_mean = iq.mean()"
      ],
      "metadata": {
        "id": "6uCFyhRji4WG"
      },
      "execution_count": 11,
      "outputs": []
    },
    {
      "cell_type": "code",
      "source": [
        "(iq_mean - iq_t * iq_std / np.sqrt(n), iq_mean + iq_t * iq_std / np.sqrt(n))"
      ],
      "metadata": {
        "colab": {
          "base_uri": "https://localhost:8080/"
        },
        "id": "3AG5UOq_i57_",
        "outputId": "f118fbad-e391-437f-ea61-e62d4b9963c4"
      },
      "execution_count": 12,
      "outputs": [
        {
          "output_type": "execute_result",
          "data": {
            "text/plain": [
              "(110.55608365158724, 125.64391634841274)"
            ]
          },
          "metadata": {},
          "execution_count": 12
        }
      ]
    },
    {
      "cell_type": "markdown",
      "source": [
        "## Задача 3\n",
        "Известно, что рост футболистов в сборной распределен нормально с дисперсией генеральной совокупности, равной 25 кв.см. Объем выборки равен 27, среднее выборочное составляет 174.2. Найдите доверительный интервал для математического ожидания с надежностью 0.95."
      ],
      "metadata": {
        "id": "WeeXyXENi8Zq"
      }
    },
    {
      "cell_type": "code",
      "source": [
        "DX = 25\n",
        "n = 27\n",
        "m = 174.2"
      ],
      "metadata": {
        "id": "9NofOr5Yi_2h"
      },
      "execution_count": 13,
      "outputs": []
    },
    {
      "cell_type": "code",
      "source": [
        "s = np.math.sqrt(DX/n)"
      ],
      "metadata": {
        "id": "y8FXYrBWjOF1"
      },
      "execution_count": 14,
      "outputs": []
    },
    {
      "cell_type": "code",
      "source": [
        "(m - 2 * s, m + 2 * s)"
      ],
      "metadata": {
        "colab": {
          "base_uri": "https://localhost:8080/"
        },
        "id": "r8eqH60_jS2y",
        "outputId": "cb49bfc0-67af-421f-c06f-ca8fe3763572"
      },
      "execution_count": 15,
      "outputs": [
        {
          "output_type": "execute_result",
          "data": {
            "text/plain": [
              "(172.27549910270125, 176.12450089729873)"
            ]
          },
          "metadata": {},
          "execution_count": 15
        }
      ]
    }
  ]
}