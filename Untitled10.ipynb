{
  "nbformat": 4,
  "nbformat_minor": 0,
  "metadata": {
    "colab": {
      "provenance": [],
      "authorship_tag": "ABX9TyP2uP7JYHPCSxkCW/urBwTd",
      "include_colab_link": true
    },
    "kernelspec": {
      "name": "python3",
      "display_name": "Python 3"
    },
    "language_info": {
      "name": "python"
    }
  },
  "cells": [
    {
      "cell_type": "markdown",
      "metadata": {
        "id": "view-in-github",
        "colab_type": "text"
      },
      "source": [
        "<a href=\"https://colab.research.google.com/github/Natalycat86/2210/blob/main/Untitled10.ipynb\" target=\"_parent\"><img src=\"https://colab.research.google.com/assets/colab-badge.svg\" alt=\"Open In Colab\"/></a>"
      ]
    },
    {
      "cell_type": "code",
      "execution_count": 1,
      "metadata": {
        "id": "ZqevCqSq6qTv"
      },
      "outputs": [],
      "source": [
        "import pandas as pd\n",
        "import numpy as np"
      ]
    },
    {
      "cell_type": "code",
      "source": [
        "def combinations (n, k):\n",
        "    return np.math.factorial(n) // (np.math.factorial(k) * np.math.factorial(n - k))\n",
        "\n",
        "def arrangements (n, k):\n",
        "    return np.math.factorial(n) // np.math.factorial(n - k)\n",
        "\n",
        "def permutations (n):\n",
        "    return np.math.factorial(n)\n",
        "\n",
        "def bernulli (n, probability, target):\n",
        "    return combinations (n, target) * probability**target * (1 - probability)**(n - target)\n",
        "\n",
        "def puasson (n, probability, target):\n",
        "    return ((n * probability)**target / np.math.factorial(target)) * np.math.e**(-(n * probability))"
      ],
      "metadata": {
        "id": "FnBWvkPP60EL"
      },
      "execution_count": 4,
      "outputs": []
    },
    {
      "cell_type": "markdown",
      "source": [
        "##Задача 1.\n",
        "Вероятность того, что стрелок попадет в мишень, выстрелив один раз, равна 0.8. Стрелок выстрелил 100 раз. Найдите вероятность того, что стрелок попадет в цель ровно 85 раз."
      ],
      "metadata": {
        "id": "-aXPdb4e7SM7"
      }
    },
    {
      "cell_type": "code",
      "source": [
        "result1 = bernulli (100, 0.8, 85)\n",
        "print(f'Вероятность попасть 85 раз: {result1 :.5f}')"
      ],
      "metadata": {
        "colab": {
          "base_uri": "https://localhost:8080/"
        },
        "id": "78daQIHA7eBD",
        "outputId": "631b1a90-3d86-4746-973f-793ca1837d37"
      },
      "execution_count": 5,
      "outputs": [
        {
          "output_type": "stream",
          "name": "stdout",
          "text": [
            "Вероятность попасть 85 раз: 0.04806\n"
          ]
        }
      ]
    },
    {
      "cell_type": "markdown",
      "source": [
        "##Задача 2.\n",
        "Вероятность того, что лампочка перегорит в течение первого дня эксплуатации, равна 0.0004. В жилом комплексе после ремонта в один день включили 5000 новых лампочек. Какова вероятность, что ни одна из них не перегорит в первый день? Какова вероятность, что перегорят ровно две?"
      ],
      "metadata": {
        "id": "gwaklRgh7tYo"
      }
    },
    {
      "cell_type": "code",
      "source": [
        "result2 = puasson(5000, 0.0004, 0)\n",
        "print(f'Вероятность перегорания 0 лампочек: {result2 :.3%}')"
      ],
      "metadata": {
        "colab": {
          "base_uri": "https://localhost:8080/"
        },
        "id": "-mkBbxlK7x7L",
        "outputId": "4b0e950d-0552-429f-b759-c47a866911b8"
      },
      "execution_count": 6,
      "outputs": [
        {
          "output_type": "stream",
          "name": "stdout",
          "text": [
            "Вероятность перегорания 0 лампочек: 13.534%\n"
          ]
        }
      ]
    },
    {
      "cell_type": "code",
      "source": [
        "result2_2 = puasson(5000, 0.0004, 2)\n",
        "print(f'Вероятность перегорания 2 лампочек: {result2_2 :.3%}')"
      ],
      "metadata": {
        "colab": {
          "base_uri": "https://localhost:8080/"
        },
        "id": "Iff5WNYR8FIT",
        "outputId": "eccc713b-dc5a-4b67-e185-2d5523569591"
      },
      "execution_count": 7,
      "outputs": [
        {
          "output_type": "stream",
          "name": "stdout",
          "text": [
            "Вероятность перегорания 2 лампочек: 27.067%\n"
          ]
        }
      ]
    },
    {
      "cell_type": "markdown",
      "source": [
        "##Задача 3.\n",
        "Монету подбросили 144 раза. Какова вероятность, что орел выпадет ровно 70 раз?"
      ],
      "metadata": {
        "id": "WO1yT7WI8QCT"
      }
    },
    {
      "cell_type": "code",
      "source": [
        "result3 = bernulli (144, 0.5, 70)\n",
        "print(f'Вероятность выпадения 70 орлов: {result3 :.3%}')"
      ],
      "metadata": {
        "colab": {
          "base_uri": "https://localhost:8080/"
        },
        "id": "sd9Hm2V68X_4",
        "outputId": "7161b2f5-600a-48f6-b07d-fc7cdd01dc8b"
      },
      "execution_count": 8,
      "outputs": [
        {
          "output_type": "stream",
          "name": "stdout",
          "text": [
            "Вероятность выпадения 70 орлов: 6.281%\n"
          ]
        }
      ]
    },
    {
      "cell_type": "markdown",
      "source": [
        "## Задача 4\n",
        "В первом ящике находится 10 мячей, из которых 7 - белые. Во втором ящике - 11 мячей, из которых 9 белых. Из каждого ящика вытаскивают случайным образом по два мяча. Какова вероятность того, что все мячи белые? Какова вероятность того, что ровно два мяча белые? Какова вероятность того, что хотя бы один мяч белый?"
      ],
      "metadata": {
        "id": "OAKSSJtN8jrW"
      }
    },
    {
      "cell_type": "code",
      "source": [
        "ball1 = combinations (7, 2)/combinations(10, 2)\n",
        "ball2 = combinations (9, 2)/combinations(11, 2)\n",
        "print(f'Вероятность вытащить все белые мячи: {ball1*ball2 :.3%}')"
      ],
      "metadata": {
        "colab": {
          "base_uri": "https://localhost:8080/"
        },
        "id": "2ObIWul_8vUk",
        "outputId": "1bf70651-cdcc-4981-af06-525654ddc80a"
      },
      "execution_count": 9,
      "outputs": [
        {
          "output_type": "stream",
          "name": "stdout",
          "text": [
            "Вероятность вытащить все белые мячи: 30.545%\n"
          ]
        }
      ]
    },
    {
      "cell_type": "code",
      "source": [
        "probability1 = (combinations (7, 2) / combinations(10, 2)) * (combinations (2, 2) / combinations(11, 2))\n",
        "probability2 = (combinations (3, 2) / combinations(10, 2)) * (combinations (9, 2) / combinations(11, 2))\n",
        "probability3 = ((combinations (3, 1) * combinations (7, 1)) / combinations (10,2)) * ((combinations(2, 1)*combinations (9, 1))/combinations (11, 2))\n",
        "print(f'Вероятность двух белых мячей: {probability1 + probability2 + probability3 :.3%}')"
      ],
      "metadata": {
        "colab": {
          "base_uri": "https://localhost:8080/"
        },
        "id": "-oUQzVtm9EVf",
        "outputId": "e1687638-069e-4334-b351-9c862bc49f81"
      },
      "execution_count": 11,
      "outputs": [
        {
          "output_type": "stream",
          "name": "stdout",
          "text": [
            "Вероятность двух белых мячей: 20.485%\n"
          ]
        }
      ]
    },
    {
      "cell_type": "code",
      "source": [
        "probability4 = (combinations (3, 2)/ combinations (10,2))*(combinations(2, 2)/combinations (11, 2))\n",
        "print(f'Вероятность минимум 1 белого мяча: {1 - probability4 :.3%}')"
      ],
      "metadata": {
        "colab": {
          "base_uri": "https://localhost:8080/"
        },
        "id": "WGFjjXst9jRI",
        "outputId": "2a8459a8-29e1-4f34-ba50-a221a9fcdfc0"
      },
      "execution_count": 12,
      "outputs": [
        {
          "output_type": "stream",
          "name": "stdout",
          "text": [
            "Вероятность минимум 1 белого мяча: 99.879%\n"
          ]
        }
      ]
    }
  ]
}