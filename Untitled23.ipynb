{
  "nbformat": 4,
  "nbformat_minor": 0,
  "metadata": {
    "colab": {
      "provenance": [],
      "authorship_tag": "ABX9TyMoXMC+y4VExxapUm85EzVy",
      "include_colab_link": true
    },
    "kernelspec": {
      "name": "python3",
      "display_name": "Python 3"
    },
    "language_info": {
      "name": "python"
    }
  },
  "cells": [
    {
      "cell_type": "markdown",
      "metadata": {
        "id": "view-in-github",
        "colab_type": "text"
      },
      "source": [
        "<a href=\"https://colab.research.google.com/github/Natalycat86/2210/blob/main/Untitled23.ipynb\" target=\"_parent\"><img src=\"https://colab.research.google.com/assets/colab-badge.svg\" alt=\"Open In Colab\"/></a>"
      ]
    },
    {
      "cell_type": "markdown",
      "source": [
        "##Урок 6.-Домашняя работа.\n",
        " Расчёт длительности А/B теста + продвинутые топики\n",
        "1.Продакт на главной mail.ru решил протестировать в рекомендательной ленте контента вместо карточек со статьями видеоплеер с короткими видео. Нынешний таймспент на юзера в день в среднем равен 25 минут, а стандартная ошибка (SD) равна 156. Мы предполагаем, что в новой версии таймспент на юзера в день изменится на 10%. Средний трафик 20000 человек в день. Посчитайте сколько дней необходимо держать эксперимент при alpha = 5% и beta = 20% .\n",
        "\n",
        "2.Наша продуктовая команда в ecommerce магазине планирует запустить тест, направленный на ускорение загрузки сайта. Одна из основных метрик bounce rate в GA = 40%. Мы предполагаем, что при оптимизации сайта она изменится минимум на 20%.Средний трафик 4000 человек в день. Посчитайте сколько нам нужно дней держать эксперимент при alpha = 5% и beta = 20%"
      ],
      "metadata": {
        "id": "VylDRXsoHaX5"
      }
    },
    {
      "cell_type": "markdown",
      "source": [
        "##Задача 1."
      ],
      "metadata": {
        "id": "c2Ja5UXVIWXr"
      }
    },
    {
      "cell_type": "code",
      "source": [
        "import numpy as np\n",
        "from scipy.stats import norm, t"
      ],
      "metadata": {
        "id": "tMZA1jMnH6rx"
      },
      "execution_count": 1,
      "outputs": []
    },
    {
      "cell_type": "code",
      "source": [
        "n = 20000\n",
        "sd = 156\n",
        "alpha = 0.05\n",
        "beta = 0.2\n",
        "prop_diff = 0.1"
      ],
      "metadata": {
        "id": "xL-_aCVlH9oK"
      },
      "execution_count": 7,
      "outputs": []
    },
    {
      "cell_type": "code",
      "source": [
        "se = sd / np.sqrt(n)\n",
        "m = se * norm.ppf(1 - alpha/2)\n",
        "delta = prop_diff * n"
      ],
      "metadata": {
        "id": "i6SGcatKIBig"
      },
      "execution_count": 8,
      "outputs": []
    },
    {
      "cell_type": "code",
      "source": [
        "z_alpha = norm.ppf(1 - alpha)\n",
        "z_beta = norm.ppf(1 - beta)"
      ],
      "metadata": {
        "id": "C3-LELmiID02"
      },
      "execution_count": 9,
      "outputs": []
    },
    {
      "cell_type": "code",
      "source": [
        "n_1 = (z_alpha*m + z_beta*sd/delta)**2\n",
        "n_2 = (z_alpha*m - z_beta*sd/delta)**2\n",
        "n_round = np.ceil(max(n_1, n_2))\n",
        "days = np.ceil(n_round/n)"
      ],
      "metadata": {
        "id": "EAe38ubDIFv3"
      },
      "execution_count": 10,
      "outputs": []
    },
    {
      "cell_type": "code",
      "source": [
        "print(f\"Необходимо собрать данные в течении {int(days)} дней\")"
      ],
      "metadata": {
        "colab": {
          "base_uri": "https://localhost:8080/"
        },
        "id": "drh9bRhfIIp_",
        "outputId": "32cde43d-4105-4334-b6fc-ab78a70e5aba"
      },
      "execution_count": 11,
      "outputs": [
        {
          "output_type": "stream",
          "name": "stdout",
          "text": [
            "Необходимо собрать данные в течении 1 дней\n"
          ]
        }
      ]
    },
    {
      "cell_type": "markdown",
      "source": [
        "## Задача 2."
      ],
      "metadata": {
        "id": "DLErxWOMIfHy"
      }
    },
    {
      "cell_type": "code",
      "source": [
        "import math\n",
        "import scipy.stats as stats"
      ],
      "metadata": {
        "id": "CsKvs-IBIiCB"
      },
      "execution_count": 12,
      "outputs": []
    },
    {
      "cell_type": "code",
      "source": [
        "def sample_size(mean1, mean2, alpha, beta, power, baseline):\n",
        "    std1 = math.sqrt(baseline * (1 - baseline))\n",
        "    z_alpha = stats.norm.ppf(1 - alpha / 2)\n",
        "    z_beta = stats.norm.ppf(power)\n",
        "    std2 = std1 * math.sqrt((baseline - mean2) ** 2 / (mean1 - mean2) ** 2)\n",
        "    return ((std1 * z_alpha + std2 * z_beta) / (mean1 - mean2)) ** 2"
      ],
      "metadata": {
        "id": "k8XTRrMLJMrD"
      },
      "execution_count": 13,
      "outputs": []
    },
    {
      "cell_type": "code",
      "source": [
        "round(sample_size(mean1=0.4, mean2=-0.2, alpha=0.05, beta=0.2, power=0.8,\n",
        "                  baseline=0.4))"
      ],
      "metadata": {
        "colab": {
          "base_uri": "https://localhost:8080/"
        },
        "id": "GOIreydJJOp7",
        "outputId": "a33fcee4-2325-4fe2-8a1d-de1ca157680d"
      },
      "execution_count": 14,
      "outputs": [
        {
          "output_type": "execute_result",
          "data": {
            "text/plain": [
              "5"
            ]
          },
          "metadata": {},
          "execution_count": 14
        }
      ]
    },
    {
      "cell_type": "markdown",
      "source": [
        "Ответ: 5 дней нам нужно держать эксперимент при alpha = 5% и beta = 20%"
      ],
      "metadata": {
        "id": "J3P5AhBlJRm8"
      }
    }
  ]
}