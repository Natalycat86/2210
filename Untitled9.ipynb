{
  "nbformat": 4,
  "nbformat_minor": 0,
  "metadata": {
    "colab": {
      "provenance": [],
      "authorship_tag": "ABX9TyMWI6LX9RarDfKZnwLtpvPg",
      "include_colab_link": true
    },
    "kernelspec": {
      "name": "python3",
      "display_name": "Python 3"
    },
    "language_info": {
      "name": "python"
    }
  },
  "cells": [
    {
      "cell_type": "markdown",
      "metadata": {
        "id": "view-in-github",
        "colab_type": "text"
      },
      "source": [
        "<a href=\"https://colab.research.google.com/github/Natalycat86/2210/blob/main/Untitled9.ipynb\" target=\"_parent\"><img src=\"https://colab.research.google.com/assets/colab-badge.svg\" alt=\"Open In Colab\"/></a>"
      ]
    },
    {
      "cell_type": "code",
      "source": [
        "import pandas as pd\n",
        "import numpy as np"
      ],
      "metadata": {
        "id": "Cyf6WHkzeAfO"
      },
      "execution_count": 1,
      "outputs": []
    },
    {
      "cell_type": "code",
      "source": [
        "def combinations (n, k):\n",
        "    return np.math.factorial(n) // (np.math.factorial(k) * np.math.factorial(n - k))\n",
        "\n",
        "def arrangements (n, k):\n",
        "    return np.math.factorial(n) // np.math.factorial(n - k)\n",
        "\n",
        "def permutations (n):\n",
        "    return np.math.factorial(n)"
      ],
      "metadata": {
        "id": "5DeBFoE5eIIs"
      },
      "execution_count": 2,
      "outputs": []
    },
    {
      "cell_type": "markdown",
      "source": [
        "## Задача 1.\n",
        "Из колоды в 52 карты извлекаются случайным образом 4 карты.\n",
        "\n",
        "a) Найти вероятность того, что все карты – крести.\n",
        "\n",
        "б) Найти вероятность, что среди 4-х карт окажется хотя бы один туз.\n",
        "\n",
        "Считаем все возможные сочетания из четырех крестей,потом возможные сочетания 4 карт, делим одно на другое."
      ],
      "metadata": {
        "id": "N4ZWMHYAeOjG"
      }
    },
    {
      "cell_type": "code",
      "source": [
        "result1 = combinations(13, 4)\n",
        "result1"
      ],
      "metadata": {
        "colab": {
          "base_uri": "https://localhost:8080/"
        },
        "id": "9r-Yse7zecXl",
        "outputId": "f4fdf8ba-df22-40eb-80b3-f5736e38cc38"
      },
      "execution_count": 3,
      "outputs": [
        {
          "output_type": "execute_result",
          "data": {
            "text/plain": [
              "715"
            ]
          },
          "metadata": {},
          "execution_count": 3
        }
      ]
    },
    {
      "cell_type": "code",
      "source": [
        "cards = combinations(52, 4)\n",
        "cards"
      ],
      "metadata": {
        "colab": {
          "base_uri": "https://localhost:8080/"
        },
        "id": "2VcsdhL0ekPl",
        "outputId": "9c48636a-6919-46b7-a87c-6f438ebda8aa"
      },
      "execution_count": 4,
      "outputs": [
        {
          "output_type": "execute_result",
          "data": {
            "text/plain": [
              "270725"
            ]
          },
          "metadata": {},
          "execution_count": 4
        }
      ]
    },
    {
      "cell_type": "code",
      "source": [
        "result = result1/cards\n",
        "result"
      ],
      "metadata": {
        "colab": {
          "base_uri": "https://localhost:8080/"
        },
        "id": "X9turE5aeoPI",
        "outputId": "c21dbcfd-fde1-4e9e-d1fc-9011ce5c2d6a"
      },
      "execution_count": 5,
      "outputs": [
        {
          "output_type": "execute_result",
          "data": {
            "text/plain": [
              "0.0026410564225690276"
            ]
          },
          "metadata": {},
          "execution_count": 5
        }
      ]
    },
    {
      "cell_type": "code",
      "source": [
        "tuz1 = combinations (4, 1) * combinations(48, 3)\n",
        "tuz2 = combinations (4, 2) * combinations(48, 2)\n",
        "tuz3 = combinations (4, 3) * combinations(48, 1)\n",
        "tuz4 = combinations (4, 4)\n",
        "result = (tuz1 + tuz2 + tuz3 + tuz4)/cards\n",
        "result"
      ],
      "metadata": {
        "colab": {
          "base_uri": "https://localhost:8080/"
        },
        "id": "XifD76JZexwu",
        "outputId": "02a38966-1cce-40c9-fa28-a0f5018e2a4c"
      },
      "execution_count": 6,
      "outputs": [
        {
          "output_type": "execute_result",
          "data": {
            "text/plain": [
              "0.2812632745405855"
            ]
          },
          "metadata": {},
          "execution_count": 6
        }
      ]
    },
    {
      "cell_type": "markdown",
      "source": [
        "## Задача 2\n",
        "На входной двери подъезда установлен кодовый замок, содержащий десять кнопок с цифрами от 0 до 9. Код содержит три цифры, которые нужно нажать одновременно.\n",
        "Какова вероятность того, что человек, не знающий код, откроет дверь с первой попытки?"
      ],
      "metadata": {
        "id": "0jrR1sN1e-9N"
      }
    },
    {
      "cell_type": "code",
      "source": [
        "result2 = 1/combinations(10, 3)\n",
        "result2"
      ],
      "metadata": {
        "colab": {
          "base_uri": "https://localhost:8080/"
        },
        "id": "kZGYGZYIfLZD",
        "outputId": "d9be818c-5dc2-433a-a4de-34e75036c019"
      },
      "execution_count": 7,
      "outputs": [
        {
          "output_type": "execute_result",
          "data": {
            "text/plain": [
              "0.008333333333333333"
            ]
          },
          "metadata": {},
          "execution_count": 7
        }
      ]
    },
    {
      "cell_type": "markdown",
      "source": [
        "## Задача 3\n",
        "В ящике имеется 15 деталей, из которых 9 окрашены. Рабочий случайным образом извлекает 3 детали.\n",
        "Какова вероятность того, что все извлеченные детали окрашены?"
      ],
      "metadata": {
        "id": "teSTvVQPfVah"
      }
    },
    {
      "cell_type": "code",
      "source": [
        "detail = combinations(9,3)\n",
        "details = combinations(15,3)"
      ],
      "metadata": {
        "id": "OTGzj4yBfZxY"
      },
      "execution_count": 8,
      "outputs": []
    },
    {
      "cell_type": "code",
      "source": [
        "result3 = detail/details\n",
        "result3"
      ],
      "metadata": {
        "colab": {
          "base_uri": "https://localhost:8080/"
        },
        "id": "IC2BdsgLff2v",
        "outputId": "be346de2-6f7c-4d7b-e140-92dd200b3d41"
      },
      "execution_count": 9,
      "outputs": [
        {
          "output_type": "execute_result",
          "data": {
            "text/plain": [
              "0.18461538461538463"
            ]
          },
          "metadata": {},
          "execution_count": 9
        }
      ]
    },
    {
      "cell_type": "markdown",
      "source": [
        "## Задача 4\n",
        "В лотерее 100 билетов. Из них 2 выигрышных.\n",
        "Какова вероятность того, что 2 приобретенных билета окажутся выигрышными?"
      ],
      "metadata": {
        "id": "u_eKu6J5flaT"
      }
    },
    {
      "cell_type": "code",
      "source": [
        "result4 = combinations (2,2) / combinations (100, 2)\n",
        "result4"
      ],
      "metadata": {
        "colab": {
          "base_uri": "https://localhost:8080/"
        },
        "id": "CVTE3dM2frya",
        "outputId": "2f28a685-8168-4153-e04a-a18b4ccefe6b"
      },
      "execution_count": 10,
      "outputs": [
        {
          "output_type": "execute_result",
          "data": {
            "text/plain": [
              "0.00020202020202020202"
            ]
          },
          "metadata": {},
          "execution_count": 10
        }
      ]
    }
  ]
}