{
  "nbformat": 4,
  "nbformat_minor": 0,
  "metadata": {
    "colab": {
      "provenance": [],
      "authorship_tag": "ABX9TyPVuyLXKDncuUZlpL4cbGVN",
      "include_colab_link": true
    },
    "kernelspec": {
      "name": "python3",
      "display_name": "Python 3"
    },
    "language_info": {
      "name": "python"
    }
  },
  "cells": [
    {
      "cell_type": "markdown",
      "metadata": {
        "id": "view-in-github",
        "colab_type": "text"
      },
      "source": [
        "<a href=\"https://colab.research.google.com/github/Natalycat86/2210/blob/main/Untitled15.ipynb\" target=\"_parent\"><img src=\"https://colab.research.google.com/assets/colab-badge.svg\" alt=\"Open In Colab\"/></a>"
      ]
    },
    {
      "cell_type": "code",
      "execution_count": 1,
      "metadata": {
        "id": "PcAr3VHL8Kxu"
      },
      "outputs": [],
      "source": [
        "import pandas as pd\n",
        "import numpy as np\n",
        "import scipy.stats as st"
      ]
    },
    {
      "cell_type": "code",
      "source": [
        "def combinations (n, k):\n",
        "    return np.math.factorial(n) // (np.math.factorial(k) * np.math.factorial(n - k))\n",
        "\n",
        "def arrangements (n, k):\n",
        "    return np.math.factorial(n) // np.math.factorial(n - k)\n",
        "\n",
        "def permutations (n):\n",
        "    return np.math.factorial(n)\n",
        "\n",
        "def bernulli (n, probability, target):\n",
        "    return combinations (n, target) * probability**target * (1 - probability)**(n - target)\n",
        "\n",
        "def poisson (n, probability, target):\n",
        "    return ((n * probability)**target / np.math.factorial(target)) * np.math.e**(-(n * probability))\n",
        "\n",
        "def unbiased_variance (data: pd.Series(dtype='float64')):\n",
        "    avg = data.sum() / data.count ()\n",
        "    unbiased_variance = ((data - avg) ** 2).sum() / (data.count()-1)"
      ],
      "metadata": {
        "id": "p-OV4uQz8QfI"
      },
      "execution_count": 2,
      "outputs": []
    },
    {
      "cell_type": "markdown",
      "source": [
        "## Задача 1\n",
        "Выбрать тест и проверить, есть ли различия между выборками:\n",
        "\n",
        "Даны две независимые выборки. Не соблюдается условие нормальности\n",
        "x1 380,420, 290\n",
        "\n",
        "y1 140,360,200,900\n",
        "\n",
        "Сделайте вывод по результатам, полученным с помощью функции."
      ],
      "metadata": {
        "id": "kmRNoKqy8ZC1"
      }
    },
    {
      "cell_type": "code",
      "source": [
        "x1 = np.array([380, 420, 290])\n",
        "y1 = np.array([140, 360, 200, 900])"
      ],
      "metadata": {
        "id": "hRex8hva8g2i"
      },
      "execution_count": 3,
      "outputs": []
    },
    {
      "cell_type": "code",
      "source": [
        "st.mannwhitneyu (x1, y1, alternative='two-sided')"
      ],
      "metadata": {
        "colab": {
          "base_uri": "https://localhost:8080/"
        },
        "id": "RJt79SAj8kVg",
        "outputId": "9e933311-bfba-47cd-e6f6-ffb7f97d0305"
      },
      "execution_count": 4,
      "outputs": [
        {
          "output_type": "execute_result",
          "data": {
            "text/plain": [
              "MannwhitneyuResult(statistic=8.0, pvalue=0.6285714285714286)"
            ]
          },
          "metadata": {},
          "execution_count": 4
        }
      ]
    },
    {
      "cell_type": "markdown",
      "source": [
        "Вывод: выборки принадлежат к одной совокупности."
      ],
      "metadata": {
        "id": "1b5iDDWS8ncK"
      }
    },
    {
      "cell_type": "markdown",
      "source": [
        "## Задача 2\n",
        "Исследовалось влияние препарата на уровень давления пациентов. Сначала измерялось давление до приема препарата, потом через 10 минут и через 30 минут. Есть ли статистически значимые различия?\n",
        "1е измерение до приема препарата: 150, 160, 165, 145, 155\n",
        "\n",
        "2е измерение через 10 минут: 140, 155, 150, 130, 135\n",
        "\n",
        "3е измерение через 30 минут: 130, 130, 120, 130, 125"
      ],
      "metadata": {
        "id": "TpxSeNBK8sZy"
      }
    },
    {
      "cell_type": "code",
      "source": [
        "test_1 = np.array([150, 160, 165, 145, 155])\n",
        "test_2 = np.array([140, 155, 150, 130, 135])\n",
        "test_3 = np.array([130, 130, 120, 130, 125])"
      ],
      "metadata": {
        "id": "JLXiPZQo9OT3"
      },
      "execution_count": 5,
      "outputs": []
    },
    {
      "cell_type": "code",
      "source": [
        "st.kruskal(test_1, test_2, test_3)"
      ],
      "metadata": {
        "colab": {
          "base_uri": "https://localhost:8080/"
        },
        "id": "4B-JPR-n9a_r",
        "outputId": "f617bea0-2f54-499e-9281-4fd5224ce6e3"
      },
      "execution_count": 6,
      "outputs": [
        {
          "output_type": "execute_result",
          "data": {
            "text/plain": [
              "KruskalResult(statistic=10.213868613138692, pvalue=0.006054616097364561)"
            ]
          },
          "metadata": {},
          "execution_count": 6
        }
      ]
    },
    {
      "cell_type": "markdown",
      "source": [
        "Вывод: прием препарата приводит к статистически значимым различиям."
      ],
      "metadata": {
        "id": "o0S2Sc-U9d91"
      }
    },
    {
      "cell_type": "markdown",
      "source": [
        "## Задача 3\n",
        "Сравните 1 и 2 е измерения, предполагая, что 3го измерения через 30 минут не было."
      ],
      "metadata": {
        "id": "ezou73g29l62"
      }
    },
    {
      "cell_type": "code",
      "source": [
        "st.mannwhitneyu (test_1, test_2, alternative='two-sided')"
      ],
      "metadata": {
        "colab": {
          "base_uri": "https://localhost:8080/"
        },
        "id": "jzhfWOFn98PF",
        "outputId": "a40849ad-c2e0-4f65-fb72-ebe6a09170f8"
      },
      "execution_count": 7,
      "outputs": [
        {
          "output_type": "execute_result",
          "data": {
            "text/plain": [
              "MannwhitneyuResult(statistic=21.0, pvalue=0.09269171612444643)"
            ]
          },
          "metadata": {},
          "execution_count": 7
        }
      ]
    },
    {
      "cell_type": "markdown",
      "source": [
        "Вывод: при доверительном интервале в 5% статистически значимых различий между группами не наблюдается."
      ],
      "metadata": {
        "id": "ofZgnxCu9-tl"
      }
    },
    {
      "cell_type": "markdown",
      "source": [
        "##Задача 4\n",
        "Даны 3 группы учеников плавания.\n",
        "В 1 группе время на дистанцию 50 м составляют: 56, 60, 62, 55, 71, 67, 59, 58, 64, 67\n",
        "\n",
        "Вторая группа : 57, 58, 69, 48, 72, 70, 68, 71, 50, 53 Третья группа: 57, 67, 49, 48, 47, 55, 66, 51, 54"
      ],
      "metadata": {
        "id": "JBRS4RmB-NJn"
      }
    },
    {
      "cell_type": "code",
      "source": [
        "group1 = np.array([56, 60, 62, 55, 71, 67, 59, 58, 64, 67])\n",
        "group2 = np.array([57, 58, 69, 48, 72, 70, 68, 71, 50, 53])\n",
        "group3  = np.array([57, 67, 49, 48, 47, 55, 66, 51, 54])"
      ],
      "metadata": {
        "id": "ow7u3ghD-TsS"
      },
      "execution_count": 8,
      "outputs": []
    },
    {
      "cell_type": "code",
      "source": [
        "st.kruskal(group1, group2, group3)"
      ],
      "metadata": {
        "colab": {
          "base_uri": "https://localhost:8080/"
        },
        "id": "SXjC-2Rg-XK6",
        "outputId": "5d5ea30f-a32f-4258-98f7-fdadbed780c9"
      },
      "execution_count": 9,
      "outputs": [
        {
          "output_type": "execute_result",
          "data": {
            "text/plain": [
              "KruskalResult(statistic=5.465564058257224, pvalue=0.0650380998590494)"
            ]
          },
          "metadata": {},
          "execution_count": 9
        }
      ]
    },
    {
      "cell_type": "markdown",
      "source": [
        "Вывод: при доверительном интервале в 5% статистически значимых различий между группами не наблюдается."
      ],
      "metadata": {
        "id": "jGyPFpdm-dH_"
      }
    },
    {
      "cell_type": "markdown",
      "source": [
        "## Задача 5\n",
        "Заявляется, что партия изготавливается со средним арифметическим 2,5 см. Проверить данную гипотезу, если известно, что размеры изделий подчинены нормальному закону распределения. Объем выборки 10, уровень статистической значимости 5%\n",
        "\n",
        "2.51, 2.35, 2.74, 2.56, 2.40, 2.36, 2.65, 2.7, 2.67, 2.34"
      ],
      "metadata": {
        "id": "U7MCi7ED-n00"
      }
    },
    {
      "cell_type": "code",
      "source": [
        "sizes = np.array([2.51, 2.35, 2.74, 2.56, 2.40, 2.36, 2.65, 2.7, 2.67, 2.34])\n",
        "n = len(sizes)\n",
        "sizes_mean = sizes.mean()\n",
        "sizes_stdX = sizes.std(ddof = 1)\n",
        "t_fact = (sizes_mean - 2.5) / sizes_stdX * np.sqrt (10)\n",
        "t_fact"
      ],
      "metadata": {
        "colab": {
          "base_uri": "https://localhost:8080/"
        },
        "id": "txpGe_x8-zX7",
        "outputId": "ea976fd7-fc04-4abc-e549-523b680428d8"
      },
      "execution_count": 11,
      "outputs": [
        {
          "output_type": "execute_result",
          "data": {
            "text/plain": [
              "0.563061366180296"
            ]
          },
          "metadata": {},
          "execution_count": 11
        }
      ]
    },
    {
      "cell_type": "code",
      "source": [
        "table = st.t(n-1).ppf(1 - 0.05 / 2)\n",
        "table"
      ],
      "metadata": {
        "colab": {
          "base_uri": "https://localhost:8080/"
        },
        "id": "rGX_pdfT_LKJ",
        "outputId": "d577ad83-88d4-4b11-c6de-0f5359d01169"
      },
      "execution_count": 12,
      "outputs": [
        {
          "output_type": "execute_result",
          "data": {
            "text/plain": [
              "2.2621571627409915"
            ]
          },
          "metadata": {},
          "execution_count": 12
        }
      ]
    },
    {
      "cell_type": "code",
      "source": [
        "trusted_interval = (sizes_mean - table * sizes_stdX / np.sqrt(n), sizes_mean + table * sizes_stdX / np.sqrt(n))\n",
        "if 2.5 > trusted_interval[0] and 2.5 < trusted_interval[1]:\n",
        "    print ('Гипотеза принята')\n",
        "else:\n",
        "    print ('Гипотеза отвергнута')"
      ],
      "metadata": {
        "colab": {
          "base_uri": "https://localhost:8080/"
        },
        "id": "S1iPl22K_QAS",
        "outputId": "6ddb4f21-72f0-40ab-df59-8e8f4efdbbbc"
      },
      "execution_count": 13,
      "outputs": [
        {
          "output_type": "stream",
          "name": "stdout",
          "text": [
            "Гипотеза принята\n"
          ]
        }
      ]
    }
  ]
}