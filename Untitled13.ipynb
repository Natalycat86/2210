{
  "nbformat": 4,
  "nbformat_minor": 0,
  "metadata": {
    "colab": {
      "provenance": [],
      "authorship_tag": "ABX9TyNJDFUY/N/LKTUYi0Herms2",
      "include_colab_link": true
    },
    "kernelspec": {
      "name": "python3",
      "display_name": "Python 3"
    },
    "language_info": {
      "name": "python"
    }
  },
  "cells": [
    {
      "cell_type": "markdown",
      "metadata": {
        "id": "view-in-github",
        "colab_type": "text"
      },
      "source": [
        "<a href=\"https://colab.research.google.com/github/Natalycat86/2210/blob/main/Untitled13.ipynb\" target=\"_parent\"><img src=\"https://colab.research.google.com/assets/colab-badge.svg\" alt=\"Open In Colab\"/></a>"
      ]
    },
    {
      "cell_type": "code",
      "execution_count": 1,
      "metadata": {
        "id": "jt4v3jvN1qAu"
      },
      "outputs": [],
      "source": [
        "import pandas as pd\n",
        "import numpy as np\n",
        "import scipy.stats as st"
      ]
    },
    {
      "cell_type": "code",
      "source": [
        "def combinations (n, k):\n",
        "    return np.math.factorial(n) // (np.math.factorial(k) * np.math.factorial(n - k))\n",
        "\n",
        "def arrangements (n, k):\n",
        "    return np.math.factorial(n) // np.math.factorial(n - k)\n",
        "\n",
        "def permutations (n):\n",
        "    return np.math.factorial(n)\n",
        "\n",
        "def bernulli (n, probability, target):\n",
        "    return combinations (n, target) * probability**target * (1 - probability)**(n - target)\n",
        "\n",
        "def poisson (n, probability, target):\n",
        "    return ((n * probability)**target / np.math.factorial(target)) * np.math.e**(-(n * probability))\n",
        "\n",
        "def unbiased_variance (data: pd.Series(dtype='float64')):\n",
        "    avg = data.sum() / data.count ()\n",
        "    unbiased_variance = ((data - avg) ** 2).sum() / (data.count()-1)"
      ],
      "metadata": {
        "id": "IimraOxI2Ho7"
      },
      "execution_count": 2,
      "outputs": []
    },
    {
      "cell_type": "markdown",
      "source": [
        "# Задача 1\n",
        "Когда используется критерий Стьюдента, а когда Z –критерий?"
      ],
      "metadata": {
        "id": "OnNuE-Pt2XuW"
      }
    },
    {
      "cell_type": "markdown",
      "source": [
        "Оба критерия используются для нормального распределения.\n",
        "\n",
        "**Критерий Стьюдента используется если среднее квадратическое отклонение генеральной совокупности неизвестно**\n",
        "\n",
        "**Z-критерий используется, если среднее квадратическое отклонение генеральной совокупности известно**"
      ],
      "metadata": {
        "id": "RfTontNz2gb8"
      }
    },
    {
      "cell_type": "markdown",
      "source": [
        "#Задача 2\n",
        "Проведите тест гипотезы. Утверждается, что шарики для подшипников, изготовленные автоматическим станком, имеют средний диаметр 17 мм.\n",
        "Используя односторонний критерий с α=0,05, проверить эту гипотезу, если в выборке из n=100 шариков средний диаметр оказался равным 17.5 мм, а дисперсия известна и равна 4 кв. мм."
      ],
      "metadata": {
        "id": "UPGhga1y26xM"
      }
    },
    {
      "cell_type": "markdown",
      "source": [
        "H0: D = 17\n",
        "\n",
        "H1: D > 17"
      ],
      "metadata": {
        "id": "I_hlycZp3zAp"
      }
    },
    {
      "cell_type": "code",
      "source": [
        "test = (17.5 - 17) / 2 * np.sqrt(100)\n",
        "alpha = 0.05"
      ],
      "metadata": {
        "id": "JmcexDCn34zY"
      },
      "execution_count": 3,
      "outputs": []
    },
    {
      "cell_type": "code",
      "source": [
        "if test > st.norm.ppf(1 - alpha):\n",
        "    print ('Гипотеза отвергнута')\n",
        "else:\n",
        "    print ('Гипотеза принята')"
      ],
      "metadata": {
        "colab": {
          "base_uri": "https://localhost:8080/"
        },
        "id": "IS_ug8vK38uf",
        "outputId": "99e142d2-1da3-4854-b48e-fd2f32953f76"
      },
      "execution_count": 4,
      "outputs": [
        {
          "output_type": "stream",
          "name": "stdout",
          "text": [
            "Гипотеза отвергнута\n"
          ]
        }
      ]
    },
    {
      "cell_type": "markdown",
      "source": [
        "#Задача 3\n",
        "Проведите тест гипотезы. Продавец утверждает, что средний вес пачки печенья составляет 200 г.\n",
        "Из партии извлечена выборка из 10 пачек. Вес каждой пачки составляет:\n",
        "202, 203, 199, 197, 195, 201, 200, 204, 194, 190.\n",
        "Известно, что их веса распределены нормально.\n",
        "\n",
        "Верно ли утверждение продавца, если учитывать, что доверительная вероятность равна 99%? (Провести двусторонний тест.)"
      ],
      "metadata": {
        "id": "t2e8yZ0c4Trg"
      }
    },
    {
      "cell_type": "code",
      "source": [
        "cookie = np.array([202, 203, 199, 197, 195, 201, 200, 204, 194, 190])\n",
        "n = len(cookie)\n",
        "cookie_mean = cookie.mean()\n",
        "cookie_stdX = cookie.std(ddof = 1)"
      ],
      "metadata": {
        "id": "hhcPMi_54Z-M"
      },
      "execution_count": 6,
      "outputs": []
    },
    {
      "cell_type": "code",
      "source": [
        "fact = (cookie_mean - 200) / cookie_stdX * np.sqrt (10)\n",
        "fact"
      ],
      "metadata": {
        "colab": {
          "base_uri": "https://localhost:8080/"
        },
        "id": "qv5VDUnr4cvC",
        "outputId": "dac4fe69-31bc-4348-fd5e-03e62f2bd045"
      },
      "execution_count": 7,
      "outputs": [
        {
          "output_type": "execute_result",
          "data": {
            "text/plain": [
              "-1.0651074037450896"
            ]
          },
          "metadata": {},
          "execution_count": 7
        }
      ]
    },
    {
      "cell_type": "code",
      "source": [
        "table2 = st.t(n-1).ppf(1 - 0.01 / 2)\n",
        "table2"
      ],
      "metadata": {
        "colab": {
          "base_uri": "https://localhost:8080/"
        },
        "id": "Ii-YgrJ_5ar9",
        "outputId": "5bc9615e-d526-4747-e485-b50440cfcc3a"
      },
      "execution_count": 9,
      "outputs": [
        {
          "output_type": "execute_result",
          "data": {
            "text/plain": [
              "3.2498355440153697"
            ]
          },
          "metadata": {},
          "execution_count": 9
        }
      ]
    },
    {
      "cell_type": "code",
      "source": [
        "T_interval = (cookie_mean - table2 * cookie_stdX / np.sqrt(n), cookie_mean + table2 * cookie_stdX / np.sqrt(n))\n",
        "if 200 > T_interval[0] and 200 < T_interval[1]:\n",
        "    print ('Гипотеза принята')\n",
        "else:\n",
        "    print ('Гипотеза отвергнута')"
      ],
      "metadata": {
        "colab": {
          "base_uri": "https://localhost:8080/"
        },
        "id": "v16IFB1T5i6I",
        "outputId": "6d6e3cb4-7326-4a4b-ce8b-777250b9a0ac"
      },
      "execution_count": 11,
      "outputs": [
        {
          "output_type": "stream",
          "name": "stdout",
          "text": [
            "Гипотеза принята\n"
          ]
        }
      ]
    },
    {
      "cell_type": "markdown",
      "source": [
        "# Задача 4\n",
        "Есть ли статистически значимые различия в росте дочерей? Рост матерей 172, 177, 158, 170, 178,175, 164, 160, 169, 165 Рост взрослых дочерей: 173, 175, 162, 174, 175, 168, 155, 170, 160"
      ],
      "metadata": {
        "id": "LwrnBC_-536b"
      }
    },
    {
      "cell_type": "code",
      "source": [
        "mothers = np.array([172, 177, 158, 170, 178, 175, 164, 160, 169, 165])\n",
        "daughters = np.array([173, 175, 162, 174, 175, 168, 155, 170, 160])"
      ],
      "metadata": {
        "id": "obhJRl3W6GHP"
      },
      "execution_count": 13,
      "outputs": []
    },
    {
      "cell_type": "code",
      "source": [
        "mothers_mean = mothers.mean()\n",
        "daughters_mean = daughters.mean()\n",
        "(mothers_mean, daughters_mean)"
      ],
      "metadata": {
        "colab": {
          "base_uri": "https://localhost:8080/"
        },
        "id": "L6VyErSz6KIv",
        "outputId": "c29697fa-9b33-4fa1-cc10-187d9545f614"
      },
      "execution_count": 14,
      "outputs": [
        {
          "output_type": "execute_result",
          "data": {
            "text/plain": [
              "(168.8, 168.0)"
            ]
          },
          "metadata": {},
          "execution_count": 14
        }
      ]
    },
    {
      "cell_type": "code",
      "source": [
        "mothers_stdX = mothers.std(ddof = 1)\n",
        "daughters_stdX = daughters.std(ddof = 1)\n",
        "(mothers_stdX, daughters_stdX)"
      ],
      "metadata": {
        "colab": {
          "base_uri": "https://localhost:8080/"
        },
        "id": "Sre-iY5T6QQT",
        "outputId": "2a1583f7-a6f1-4420-ab5c-5bd9bfd01d57"
      },
      "execution_count": 15,
      "outputs": [
        {
          "output_type": "execute_result",
          "data": {
            "text/plain": [
              "(6.941021378570864, 7.3484692283495345)"
            ]
          },
          "metadata": {},
          "execution_count": 15
        }
      ]
    },
    {
      "cell_type": "code",
      "source": [
        "st.ttest_ind(mothers, daughters)"
      ],
      "metadata": {
        "colab": {
          "base_uri": "https://localhost:8080/"
        },
        "id": "aRv1Awky6S-t",
        "outputId": "14c89f92-e6e1-4cfc-e36e-f4df0dc8ae03"
      },
      "execution_count": 16,
      "outputs": [
        {
          "output_type": "execute_result",
          "data": {
            "text/plain": [
              "TtestResult(statistic=0.24400587215969016, pvalue=0.8101467126543231, df=17.0)"
            ]
          },
          "metadata": {},
          "execution_count": 16
        }
      ]
    },
    {
      "cell_type": "code",
      "source": [
        "table3 = st.t(len(daughters)-1).ppf(1 - 0.05 / 2)\n",
        "table3"
      ],
      "metadata": {
        "colab": {
          "base_uri": "https://localhost:8080/"
        },
        "id": "GkqHTAdH6V2Q",
        "outputId": "5b6806db-8462-4df2-90a1-714550e5e577"
      },
      "execution_count": 17,
      "outputs": [
        {
          "output_type": "execute_result",
          "data": {
            "text/plain": [
              "2.3060041350333704"
            ]
          },
          "metadata": {},
          "execution_count": 17
        }
      ]
    },
    {
      "cell_type": "markdown",
      "source": [
        "Статистическое ниже, что говорит нам о том, что статистические отличия в данных отсутствуют.\n",
        "Высокий уровень p-value означает, что отличия носят случайный характер.\n",
        "Принимается нулевая гипотиза."
      ],
      "metadata": {
        "id": "QR486Psh6dT1"
      }
    }
  ]
}