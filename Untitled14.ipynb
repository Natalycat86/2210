{
  "nbformat": 4,
  "nbformat_minor": 0,
  "metadata": {
    "colab": {
      "provenance": [],
      "authorship_tag": "ABX9TyOEfJukIia6RzH0rkceaB1R",
      "include_colab_link": true
    },
    "kernelspec": {
      "name": "python3",
      "display_name": "Python 3"
    },
    "language_info": {
      "name": "python"
    }
  },
  "cells": [
    {
      "cell_type": "markdown",
      "metadata": {
        "id": "view-in-github",
        "colab_type": "text"
      },
      "source": [
        "<a href=\"https://colab.research.google.com/github/Natalycat86/2210/blob/main/Untitled14.ipynb\" target=\"_parent\"><img src=\"https://colab.research.google.com/assets/colab-badge.svg\" alt=\"Open In Colab\"/></a>"
      ]
    },
    {
      "cell_type": "code",
      "execution_count": 1,
      "metadata": {
        "id": "TeLjzYIAFyxA"
      },
      "outputs": [],
      "source": [
        "import pandas as pd\n",
        "import numpy as np\n",
        "import scipy.stats as st\n",
        "import math"
      ]
    },
    {
      "cell_type": "code",
      "source": [
        "def combinations (n, k):\n",
        "    return np.math.factorial(n) // (np.math.factorial(k) * np.math.factorial(n - k))\n",
        "\n",
        "def arrangements (n, k):\n",
        "    return np.math.factorial(n) // np.math.factorial(n - k)\n",
        "\n",
        "def permutations (n):\n",
        "    return np.math.factorial(n)\n",
        "\n",
        "def bernulli (n, probability, target):\n",
        "    return combinations (n, target) * probability**target * (1 - probability)**(n - target)\n",
        "\n",
        "def poisson (n, probability, target):\n",
        "    return ((n * probability)**target / np.math.factorial(target)) * np.math.e**(-(n * probability))\n",
        "\n",
        "def unbiased_variance (data: pd.Series(dtype='float64')):\n",
        "    avg = data.sum() / data.count ()\n",
        "    unbiased_variance = ((data - avg) ** 2).sum() / (data.count()-1)"
      ],
      "metadata": {
        "id": "NUcbWp-9F1Fb"
      },
      "execution_count": 2,
      "outputs": []
    },
    {
      "cell_type": "markdown",
      "source": [
        "## Задача 1\n",
        "Известно, что генеральная совокупность распределена нормально со средним квадратическим отклонением, равным 16. Найти доверительный интервал для оценки математического ожидания a с надежностью 0.95, если выборочная средняя M = 80, а объем выборки n = 256."
      ],
      "metadata": {
        "id": "8pNiCMUxF6tL"
      }
    },
    {
      "cell_type": "code",
      "source": [
        "# n-1\n",
        "# 1 - alpha / 2\n",
        "\n",
        "obj = st.t(256 - 1)\n",
        "t = obj.ppf(1 - 0.05 / 2)\n",
        "t"
      ],
      "metadata": {
        "colab": {
          "base_uri": "https://localhost:8080/"
        },
        "id": "tr75L97bGCdy",
        "outputId": "28a29820-ee9a-4c7f-f04a-a8156dc7e0d0"
      },
      "execution_count": 3,
      "outputs": [
        {
          "output_type": "execute_result",
          "data": {
            "text/plain": [
              "1.9693105698491928"
            ]
          },
          "metadata": {},
          "execution_count": 3
        }
      ]
    },
    {
      "cell_type": "code",
      "source": [
        "s = 16\n",
        "n = 256\n",
        "m = 80\n",
        "\n",
        "(m - t * s / np.sqrt(n), m + t * s / np.sqrt(n))"
      ],
      "metadata": {
        "colab": {
          "base_uri": "https://localhost:8080/"
        },
        "id": "5N0bXwieGNR7",
        "outputId": "ef789411-845f-409a-f0c2-fd0a3a704788"
      },
      "execution_count": 4,
      "outputs": [
        {
          "output_type": "execute_result",
          "data": {
            "text/plain": [
              "(78.0306894301508, 81.9693105698492)"
            ]
          },
          "metadata": {},
          "execution_count": 4
        }
      ]
    },
    {
      "cell_type": "markdown",
      "source": [
        "## Задача 2\n",
        "В результате 10 независимых измерений некоторой величины X, выполненных с одинаковой точностью, получены опытные данные: 6.9, 6.1, 6.2, 6.8, 7.5, 6.3, 6.4, 6.9, 6.7, 6.1 Предполагая, что результаты измерений подчинены нормальному закону распределения вероятностей, оценить истинное значение величины X при помощи доверительного интервала, покрывающего это значение с доверительной вероятностью 0,95."
      ],
      "metadata": {
        "id": "Y0SIyfpFGYR7"
      }
    },
    {
      "cell_type": "code",
      "source": [
        "values = np.array([6.9, 6.1, 6.2, 6.8, 7.5, 6.3, 6.4, 6.9, 6.7, 6.1])"
      ],
      "metadata": {
        "id": "Ps9HAl9HGx4c"
      },
      "execution_count": 5,
      "outputs": []
    },
    {
      "cell_type": "code",
      "source": [
        "values_mean = values.mean()"
      ],
      "metadata": {
        "id": "BsbKEDpEG0ve"
      },
      "execution_count": 6,
      "outputs": []
    },
    {
      "cell_type": "code",
      "source": [
        "st.t.interval(confidence=0.95, df=len(values)-1, loc=values_mean, scale=st.sem(values))"
      ],
      "metadata": {
        "colab": {
          "base_uri": "https://localhost:8080/"
        },
        "id": "DySygIkqG2xD",
        "outputId": "b9fb9efe-dfcf-4718-8819-d2c003c894b3"
      },
      "execution_count": 7,
      "outputs": [
        {
          "output_type": "execute_result",
          "data": {
            "text/plain": [
              "(6.267515851415713, 6.912484148584288)"
            ]
          },
          "metadata": {},
          "execution_count": 7
        }
      ]
    },
    {
      "cell_type": "markdown",
      "source": [
        "## Задача 3\n",
        "Рост дочерей 175, 167, 154, 174, 178, 148, 160, 167, 169, 170 Рост матерей 178, 165, 165, 173, 168, 155, 160, 164, 178, 175\n",
        "\n",
        "Используя эти данные построить 95% доверительный интервал для разности среднего роста родителей и детей."
      ],
      "metadata": {
        "id": "8g6Py17iHMxb"
      }
    },
    {
      "cell_type": "code",
      "source": [
        "mother = np.array([178, 165, 165, 173, 168, 155, 160, 164, 178, 175])\n",
        "daughter = np.array([175, 167, 154, 174, 178, 148, 160, 167, 169, 170])"
      ],
      "metadata": {
        "id": "DefHx2qXHRqU"
      },
      "execution_count": 8,
      "outputs": []
    },
    {
      "cell_type": "code",
      "source": [
        "m_mean = mother.mean()\n",
        "d_mean = daughter.mean()\n",
        "diff = m_mean - d_mean\n",
        "data = np.append(mother, daughter)\n",
        "m_stdX = mother.std(ddof = 1)\n",
        "d_stdX = daughter.std(ddof = 1)\n",
        "data.mean()"
      ],
      "metadata": {
        "colab": {
          "base_uri": "https://localhost:8080/"
        },
        "id": "ikJNQI7AHUnp",
        "outputId": "b3535b2b-19cf-426b-e69c-c5e56a36b05d"
      },
      "execution_count": 9,
      "outputs": [
        {
          "output_type": "execute_result",
          "data": {
            "text/plain": [
              "167.15"
            ]
          },
          "metadata": {},
          "execution_count": 9
        }
      ]
    },
    {
      "cell_type": "code",
      "source": [
        "table = st.t(len(mother)-1).ppf(1 - 0.05 / 2)\n",
        "table"
      ],
      "metadata": {
        "colab": {
          "base_uri": "https://localhost:8080/"
        },
        "id": "933sAUIbHcWx",
        "outputId": "b3bd90ed-632d-41aa-fed5-a9f2cf2b4b75"
      },
      "execution_count": 10,
      "outputs": [
        {
          "output_type": "execute_result",
          "data": {
            "text/plain": [
              "2.2621571627409915"
            ]
          },
          "metadata": {},
          "execution_count": 10
        }
      ]
    },
    {
      "cell_type": "code",
      "source": [
        "result = (m_mean - d_mean - (table*np.sqrt(m_stdX/len(mother) + d_stdX/len(daughter))),\n",
        "          m_mean - d_mean + (table*np.sqrt(m_stdX/len(mother) + d_stdX/len(daughter))))\n",
        "result"
      ],
      "metadata": {
        "colab": {
          "base_uri": "https://localhost:8080/"
        },
        "id": "TU8oB0XUHgF6",
        "outputId": "ce30263b-461f-4771-9a29-bb47b390b682"
      },
      "execution_count": 11,
      "outputs": [
        {
          "output_type": "execute_result",
          "data": {
            "text/plain": [
              "(-1.0749993974557182, 4.8749993974557295)"
            ]
          },
          "metadata": {},
          "execution_count": 11
        }
      ]
    }
  ]
}