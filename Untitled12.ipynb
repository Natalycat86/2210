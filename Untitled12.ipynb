{
  "nbformat": 4,
  "nbformat_minor": 0,
  "metadata": {
    "colab": {
      "provenance": [],
      "authorship_tag": "ABX9TyPr/cXfvxD0/vQ5XPWkXvr+",
      "include_colab_link": true
    },
    "kernelspec": {
      "name": "python3",
      "display_name": "Python 3"
    },
    "language_info": {
      "name": "python"
    }
  },
  "cells": [
    {
      "cell_type": "markdown",
      "metadata": {
        "id": "view-in-github",
        "colab_type": "text"
      },
      "source": [
        "<a href=\"https://colab.research.google.com/github/Natalycat86/2210/blob/main/Untitled12.ipynb\" target=\"_parent\"><img src=\"https://colab.research.google.com/assets/colab-badge.svg\" alt=\"Open In Colab\"/></a>"
      ]
    },
    {
      "cell_type": "code",
      "execution_count": 2,
      "metadata": {
        "id": "6Kz12gcy5mQl"
      },
      "outputs": [],
      "source": [
        "import pandas as pd\n",
        "import numpy as np\n",
        "import scipy.stats as st"
      ]
    },
    {
      "cell_type": "code",
      "source": [
        "def combinations (n, k):\n",
        "    return np.math.factorial(n) // (np.math.factorial(k) * np.math.factorial(n - k))\n",
        "\n",
        "def arrangements (n, k):\n",
        "    return np.math.factorial(n) // np.math.factorial(n - k)\n",
        "\n",
        "def permutations (n):\n",
        "    return np.math.factorial(n)\n",
        "\n",
        "def bernulli (n, probability, target):\n",
        "    return combinations (n, target) * probability**target * (1 - probability)**(n - target)\n",
        "\n",
        "def poisson (n, probability, target):\n",
        "    return ((n * probability)**target / np.math.factorial(target)) * np.math.e**(-(n * probability))"
      ],
      "metadata": {
        "id": "SWrJkq9P6K5Q"
      },
      "execution_count": 3,
      "outputs": []
    },
    {
      "cell_type": "markdown",
      "source": [
        "## Задача 1\n",
        "Случайная непрерывная величина A имеет равномерное распределение на промежутке (200, 800]. Найдите ее среднее значение и дисперсию."
      ],
      "metadata": {
        "id": "ADu5jsJT6PWN"
      }
    },
    {
      "cell_type": "code",
      "source": [
        "A = 200\n",
        "B = 800\n",
        "X = (A + B)/2\n",
        "D = (B - A)**2/12\n",
        "print(f'Среднее значение - {X}, дисперсия - {D}')"
      ],
      "metadata": {
        "colab": {
          "base_uri": "https://localhost:8080/"
        },
        "id": "BMQAx4Tm6WYV",
        "outputId": "db6f1e0f-d7b3-4d91-ca2b-ff5582777483"
      },
      "execution_count": null,
      "outputs": [
        {
          "output_type": "stream",
          "name": "stdout",
          "text": [
            "Среднее значение - 500.0, дисперсия - 30000.0\n"
          ]
        }
      ]
    },
    {
      "cell_type": "markdown",
      "source": [
        "## Задача 2\n",
        "О случайной непрерывной равномерно распределенной величине B известно, что ее дисперсия равна 0.2. Можно ли найти правую границу величины B и ее среднее значение зная, что левая граница равна 0.5? Если да, найдите ее."
      ],
      "metadata": {
        "id": "cJk2h2qy69_l"
      }
    },
    {
      "cell_type": "code",
      "source": [
        "D2 = 0.5 + np.sqrt(12 * 0.2)\n",
        "print(f'Правая граница - {D2 :.5}')"
      ],
      "metadata": {
        "colab": {
          "base_uri": "https://localhost:8080/"
        },
        "id": "5ZK4OX0r7KFQ",
        "outputId": "fc9ac9fc-030d-445f-dce9-7f862fae388a"
      },
      "execution_count": null,
      "outputs": [
        {
          "output_type": "stream",
          "name": "stdout",
          "text": [
            "Правая граница - 2.0492\n"
          ]
        }
      ]
    },
    {
      "cell_type": "markdown",
      "source": [
        "## Задача 3\n",
        "Непрерывная случайная величина X распределена нормально и задана плотностью распределения f(x) = (1 / (4 * sqrt(2pi))) * exp((-(x+2)**2) / 32)\n",
        "\n",
        "Найдите:\n",
        "\n",
        "а) M(X)\n",
        "\n",
        "б) D(X)\n",
        "\n",
        "в) std(X) (среднее квадратичное отклонение)"
      ],
      "metadata": {
        "id": "dkWakAO27VfY"
      }
    },
    {
      "cell_type": "code",
      "source": [
        "MX = -2\n",
        "stdX = 4\n",
        "DX = stdX**2\n",
        "print(f'M(X) = {MX};\\nstdX = \\u03C3 = {stdX};\\nD(X) = \\u03C3^2 = {DX}')"
      ],
      "metadata": {
        "id": "OctqQxjh7YzA",
        "colab": {
          "base_uri": "https://localhost:8080/"
        },
        "outputId": "1f71a4b8-3ccf-4148-9b90-6d186f4e1564"
      },
      "execution_count": 1,
      "outputs": [
        {
          "output_type": "stream",
          "name": "stdout",
          "text": [
            "M(X) = -2;\n",
            "stdX = σ = 4;\n",
            "D(X) = σ^2 = 16\n"
          ]
        }
      ]
    },
    {
      "cell_type": "markdown",
      "source": [
        "## Задача 4\n",
        "Рост взрослого населения города X имеет нормальное распределение.\n",
        "Причем, средний рост равен 174 см, а среднее квадратичное отклонение равно 8 см.\n",
        "\n",
        "Какова вероятность того, что случайным образом выбранный взрослый человек имеет рост:\n",
        "а). больше 182 см\n",
        "\n",
        "б). больше 190 см\n",
        "\n",
        "в). от 166 см до 190 см\n",
        "\n",
        "г). от 166 см до 182 см\n",
        "\n",
        "д). от 158 см до 190 см\n",
        "\n",
        "е). не выше 150 см или не ниже 190 см\n",
        "\n",
        "ё). не выше 150 см или не ниже 198 см\n",
        "\n",
        "ж). ниже 166 см."
      ],
      "metadata": {
        "id": "4H_p0VkqvoV2"
      }
    },
    {
      "cell_type": "code",
      "source": [
        "rost = st.norm(loc = 174, scale = 8)"
      ],
      "metadata": {
        "id": "mlVt48DMvvsg"
      },
      "execution_count": 4,
      "outputs": []
    },
    {
      "cell_type": "code",
      "source": [
        "result_a = 1 - rost.cdf(182)\n",
        "result_b = 1 - rost.cdf(190)\n",
        "result_c = rost.cdf(190) - rost.cdf(166)\n",
        "result_d = rost.cdf(182) - rost.cdf(166)\n",
        "result_e = rost.cdf(190) - rost.cdf(158)\n",
        "result_f = rost.cdf(150) + result_b\n",
        "result_g = rost.cdf(150) + 1 - rost.cdf(198)\n",
        "result_h = rost.cdf(166)\n",
        "print(f'''Вероятность события a - {result_a :.5%}\n",
        "Вероятность события b - {result_b :.5%}\n",
        "Вероятность события c - {result_c :.5%}\n",
        "Вероятность события d - {result_d :.5%}\n",
        "Вероятность события e - {result_e :.5%}\n",
        "Вероятность события f - {result_f :.5%}\n",
        "Вероятность события g - {result_g :.5%}\n",
        "Вероятность события h - {result_h :.5%}''')"
      ],
      "metadata": {
        "colab": {
          "base_uri": "https://localhost:8080/"
        },
        "id": "QKTYqGFHv9PN",
        "outputId": "0ea7b669-d20e-4648-a27c-da9178c9f1a0"
      },
      "execution_count": 5,
      "outputs": [
        {
          "output_type": "stream",
          "name": "stdout",
          "text": [
            "Вероятность события a - 15.86553%\n",
            "Вероятность события b - 2.27501%\n",
            "Вероятность события c - 81.85946%\n",
            "Вероятность события d - 68.26895%\n",
            "Вероятность события e - 95.44997%\n",
            "Вероятность события f - 2.41000%\n",
            "Вероятность события g - 0.26998%\n",
            "Вероятность события h - 15.86553%\n"
          ]
        }
      ]
    },
    {
      "cell_type": "markdown",
      "source": [
        "## Задача 5\n",
        "На сколько сигм (средних квадратичных отклонений) отклоняется рост человека, равный 190 см, от математического ожидания роста в популяции, в которой M(X) = 178 см и D(X) = 25 кв.см?"
      ],
      "metadata": {
        "id": "n3cTd5_swjAX"
      }
    },
    {
      "cell_type": "code",
      "source": [
        "result_5 = (190 - 178) / np.sqrt(25)\n",
        "print(f'Отклонение = {result_5}\\u03C3')"
      ],
      "metadata": {
        "colab": {
          "base_uri": "https://localhost:8080/"
        },
        "id": "_zpp_Jalwnbg",
        "outputId": "5fe2c2ca-5e55-437e-f937-9abb12e47658"
      },
      "execution_count": 6,
      "outputs": [
        {
          "output_type": "stream",
          "name": "stdout",
          "text": [
            "Отклонение = 2.4σ\n"
          ]
        }
      ]
    }
  ]
}